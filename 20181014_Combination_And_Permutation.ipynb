{
 "cells": [
  {
   "cell_type": "markdown",
   "metadata": {},
   "source": [
    "# Combination and Permutation\n",
    "There are several problems of combination, permutation and subset, all of which share similar solution. I will try to summarize here."
   ]
  },
  {
   "cell_type": "markdown",
   "metadata": {},
   "source": [
    "# 1. Subset I and II"
   ]
  },
  {
   "cell_type": "markdown",
   "metadata": {},
   "source": [
    "## 1.1 Subset I (LC 78)\n",
    "Given a set of distinct integers, nums, return all possible subsets (the power set).\n",
    "\n",
    "Note: The solution set must not contain duplicate subsets."
   ]
  },
  {
   "cell_type": "markdown",
   "metadata": {},
   "source": [
    "### Think:\n",
    "We know that given the len(nums) == n, there are 2^n subsets in it, so the time complexitiy is O(2^n).\n",
    "<br>\n",
    "We can use both recursion and iteration to solve this."
   ]
  },
  {
   "cell_type": "markdown",
   "metadata": {},
   "source": [
    "Recursion:\n",
    "- base case, if n == 0, return empty list as its empty subset,\n",
    "- if we build subsets for the first (n-1) elements, call it C(n-1), then we can add last element to each of the subsets in C(n-1), call it S(n), then C(n) = C(n-1) + S(n)."
   ]
  },
  {
   "cell_type": "code",
   "execution_count": 2,
   "metadata": {
    "collapsed": true
   },
   "outputs": [],
   "source": [
    "class Solution:\n",
    "    def helper(self, nums):\n",
    "        res = []\n",
    "        \n",
    "        # Base Case\n",
    "        if len(nums) == 0:\n",
    "            res.append([])\n",
    "            return res\n",
    "        \n",
    "        x = nums.pop()\n",
    "        \n",
    "        # C(n-1)\n",
    "        pre_res = self.helper(nums)\n",
    "        \n",
    "        # S(n)\n",
    "        for tmp in pre_res:\n",
    "            res.append(tmp + [x])\n",
    "        \n",
    "        # C(n) = C(n-1) + S(n)\n",
    "        res = res + pre_res\n",
    "        return res\n",
    "        \n",
    "    def subsets(self, nums):\n",
    "        \"\"\"\n",
    "        :type nums: List[int]\n",
    "        :rtype: List[List[int]]\n",
    "        \"\"\"\n",
    "        res = self.helper(nums)\n",
    "        \n",
    "        return res"
   ]
  },
  {
   "cell_type": "markdown",
   "metadata": {},
   "source": [
    "Fake Iteration:\n",
    "- Each element has two options, to add or not to add. So this boils down to 2^n subsets, and another solution of bit count. \n",
    "- But here I will try another iteration solution. I found it a bit less intuitive at first. But you could think the solution for each idx-th position, we have choice of not adding any elements, or we can choose add each of the available elements. This is equivalent to add or not to add each element. And because this is subset problem, ordering doesn't matter, so to avoid duplicate, each iteration will start from idx, not 0."
   ]
  },
  {
   "cell_type": "code",
   "execution_count": 6,
   "metadata": {
    "collapsed": true
   },
   "outputs": [],
   "source": [
    "class Solution:\n",
    "    def helper(self, nums, idx, path, res):\n",
    "        res.append(path) \n",
    "        \n",
    "        for i in range(idx, len(nums)):\n",
    "            self.helper(nums, i+1, path+[nums[i]], res)\n",
    "        \n",
    "    def subsets(self, nums):\n",
    "        \"\"\"\n",
    "        :type nums: List[int]\n",
    "        :rtype: List[List[int]]\n",
    "        \"\"\"\n",
    "        res = []\n",
    "        self.helper(nums, 0, [], res)\n",
    "        \n",
    "        return res"
   ]
  },
  {
   "cell_type": "markdown",
   "metadata": {},
   "source": [
    "Real Iteration:\n",
    "- Same idea as above fake iteration. But we do it in real iteration this time.\n",
    "- We add each element to all the previous results till now. "
   ]
  },
  {
   "cell_type": "code",
   "execution_count": 8,
   "metadata": {
    "collapsed": true
   },
   "outputs": [],
   "source": [
    "class Solution:\n",
    "    def subsets(self, nums):\n",
    "        \"\"\"\n",
    "        :type nums: List[int]\n",
    "        :rtype: List[List[int]]\n",
    "        \"\"\"\n",
    "        res = [[]]\n",
    "        \n",
    "        for i in range(len(nums)):\n",
    "            for j in range(len(res)):\n",
    "                res.append(res[j] + [nums[i]])\n",
    "        return res"
   ]
  },
  {
   "cell_type": "markdown",
   "metadata": {},
   "source": [
    "## 1.2 Subset II (LC 90)\n",
    "Given a collection of integers that might contain duplicates, nums, return all possible subsets (the power set).\n",
    "\n",
    "Note: The solution set must not contain duplicate subsets."
   ]
  },
  {
   "cell_type": "markdown",
   "metadata": {},
   "source": [
    "### Think:\n",
    "Since it has duplicates in nums, we could also have duplicates results if we use the above Subset I solution. A work-around is to sort nums, and for the same position, avoid using duplicate numbers."
   ]
  },
  {
   "cell_type": "markdown",
   "metadata": {},
   "source": [
    "Fake Iteration:\n",
    "Same as the above iteration, but we need to sort first, and avoid putting same value at each position in path.\n",
    "<br>\n",
    "Below trick is very common in problems with duplicates.\n",
    "- if i > idx and nums[i] == nums[i-1]: continue"
   ]
  },
  {
   "cell_type": "code",
   "execution_count": 7,
   "metadata": {
    "collapsed": true
   },
   "outputs": [],
   "source": [
    "class Solution:\n",
    "    def helper(self, nums, idx, path, res):\n",
    "        res.append(path)\n",
    "        \n",
    "        for i in range(idx, len(nums)):\n",
    "            if i > idx and nums[i] == nums[i-1]:\n",
    "                continue\n",
    "            self.helper(nums, i+1, path + [nums[i]], res)\n",
    "        \n",
    "    def subsetsWithDup(self, nums):\n",
    "        \"\"\"\n",
    "        :type nums: List[int]\n",
    "        :rtype: List[List[int]]\n",
    "        \"\"\"\n",
    "        nums.sort()\n",
    "        res = []\n",
    "        self.helper(nums, 0, [], res)\n",
    "        return res"
   ]
  },
  {
   "cell_type": "markdown",
   "metadata": {},
   "source": [
    "Real Iteration\n",
    "- we also need to sort nums first. And when we encounter duplicate input, we can only add duplicate to all results starting from last iteration, but not from the very beginning."
   ]
  },
  {
   "cell_type": "code",
   "execution_count": 9,
   "metadata": {
    "collapsed": true
   },
   "outputs": [],
   "source": [
    "class Solution:\n",
    "    def subsetsWithDup(self, nums):\n",
    "        \"\"\"\n",
    "        :type nums: List[int]\n",
    "        :rtype: List[List[int]]\n",
    "        \"\"\"\n",
    "        nums.sort()\n",
    "        res = [[]]\n",
    "        \n",
    "        for i in range(len(nums)):\n",
    "            if i > 0 and nums[i] == nums[i-1]:\n",
    "                start = mark\n",
    "            else:\n",
    "                start = 0\n",
    "            mark = len(res)\n",
    "            for j in range(start, len(res)):\n",
    "                res.append(res[j] + [nums[i]])\n",
    "        return res"
   ]
  },
  {
   "cell_type": "markdown",
   "metadata": {},
   "source": [
    "For recursion, we could use similar solution to Subset I, but there could be duplicate in the results, so we need to remove duplicates before returning."
   ]
  },
  {
   "cell_type": "markdown",
   "metadata": {},
   "source": [
    "# 2. Permutations I and II"
   ]
  },
  {
   "cell_type": "markdown",
   "metadata": {},
   "source": [
    "## 2.1 Permutation I (LC 46)\n",
    "Given a collection of distinct integers, return all possible permutations."
   ]
  },
  {
   "cell_type": "markdown",
   "metadata": {},
   "source": [
    "### Think:\n",
    "This could also be solved by both recursion and iteration."
   ]
  },
  {
   "cell_type": "markdown",
   "metadata": {},
   "source": [
    "### Recursion\n",
    "<br>\n",
    "If we solve permutation for the first n-1 elements, we can add the last elements to all the possible position of each permutation to get the result."
   ]
  },
  {
   "cell_type": "code",
   "execution_count": 11,
   "metadata": {
    "collapsed": true
   },
   "outputs": [],
   "source": [
    "class Solution:\n",
    "    def helper(self, nums):\n",
    "        res = []\n",
    "        if not nums:\n",
    "            res.append([])\n",
    "            return res\n",
    "        x = nums.pop()\n",
    "        pre_res = self.helper(nums)\n",
    "        for tmp in pre_res:\n",
    "            for j in range(len(tmp) + 1):\n",
    "                res.append(tmp[:j] + [x] + tmp[j:])\n",
    "        return res\n",
    "        \n",
    "    \n",
    "    def permute(self, nums):\n",
    "        \"\"\"\n",
    "        :type nums: List[int]\n",
    "        :rtype: List[List[int]]\n",
    "        \"\"\"\n",
    "        res = self.helper(nums)\n",
    "        return res"
   ]
  },
  {
   "cell_type": "markdown",
   "metadata": {},
   "source": [
    "### Fake Iteration"
   ]
  },
  {
   "cell_type": "code",
   "execution_count": 10,
   "metadata": {
    "collapsed": true
   },
   "outputs": [],
   "source": [
    "class Solution:\n",
    "    def helper(self, nums, path, res):\n",
    "        if not nums:\n",
    "            res.append(path)\n",
    "            return\n",
    "        for i in range(len(nums)):\n",
    "            self.helper(nums[:i] + nums[(i+1):], path + [nums[i]], res)\n",
    "        \n",
    "    def permute(self, nums):\n",
    "        \"\"\"\n",
    "        :type nums: List[int]\n",
    "        :rtype: List[List[int]]\n",
    "        \"\"\"\n",
    "        res = []\n",
    "        self.helper(nums, [], res)\n",
    "        \n",
    "        return res"
   ]
  },
  {
   "cell_type": "markdown",
   "metadata": {},
   "source": [
    "### Real Iteration\n",
    "<br>\n",
    "- add each element to every posisiton in its previous n-1 result."
   ]
  },
  {
   "cell_type": "code",
   "execution_count": 12,
   "metadata": {
    "collapsed": true
   },
   "outputs": [],
   "source": [
    "class Solution:\n",
    "    def permute(self, nums):\n",
    "        \"\"\"\n",
    "        :type nums: List[int]\n",
    "        :rtype: List[List[int]]\n",
    "        \"\"\"\n",
    "        res = [[]]\n",
    "        \n",
    "        for x in nums:\n",
    "            new_res = []\n",
    "            while res:\n",
    "                tmp = res.pop()\n",
    "                for j in range(len(tmp)+1):\n",
    "                    new_res.append(tmp[:j] + [x] + tmp[j:])\n",
    "            res = new_res\n",
    "        return res"
   ]
  },
  {
   "cell_type": "markdown",
   "metadata": {},
   "source": [
    "## 2.2 Permutation II (LC 47)\n",
    "Given a collection of numbers that might contain duplicates, return all possible unique permutations."
   ]
  },
  {
   "cell_type": "markdown",
   "metadata": {},
   "source": [
    "### Think:\n",
    "### Recursion<br>\n",
    "Since we have duplicates in the input, a natural way to avoid it is to first generate a hash table to save distinct numbers and their counts, and for each recursion, we only try disntict values. This is a work-around of the duplicate numbers."
   ]
  },
  {
   "cell_type": "code",
   "execution_count": 14,
   "metadata": {
    "collapsed": true
   },
   "outputs": [],
   "source": [
    "class Solution:\n",
    "    def dfs(self, remaining, d):\n",
    "        if remaining <= 0:\n",
    "            return [[]]\n",
    "        res = []\n",
    "        for c in d:\n",
    "            if d[c] > 0:\n",
    "                d[c] -= 1\n",
    "                res += [x + [c] for x in self.dfs(remaining - 1, d)]\n",
    "                d[c] += 1\n",
    "        return res\n",
    "        \n",
    "    def permuteUnique(self, nums):\n",
    "        \"\"\"\n",
    "        :type nums: List[int]\n",
    "        :rtype: List[List[int]]\n",
    "        \"\"\"\n",
    "        d = collections.Counter(nums)\n",
    "        n = len(nums)\n",
    "        \n",
    "        res = self.dfs(n, d)\n",
    "        return res"
   ]
  },
  {
   "cell_type": "markdown",
   "metadata": {},
   "source": [
    "### Fake Iteration"
   ]
  },
  {
   "cell_type": "code",
   "execution_count": 13,
   "metadata": {
    "collapsed": true
   },
   "outputs": [],
   "source": [
    "class Solution:\n",
    "    def dfs(self, nums, path, res):\n",
    "        if not nums:\n",
    "            res.append(path)\n",
    "            return\n",
    "        for i in range(len(nums)):\n",
    "            if i > 0 and nums[i] == nums[i-1]:\n",
    "                continue\n",
    "            self.dfs(nums[:i] + nums[(i+1):], path + [nums[i]], res)\n",
    "    \n",
    "    def permuteUnique(self, nums):\n",
    "        \"\"\"\n",
    "        :type nums: List[int]\n",
    "        :rtype: List[List[int]]\n",
    "        \"\"\"\n",
    "        nums.sort()\n",
    "        res = []\n",
    "        self.dfs(nums, [], res)\n",
    "        \n",
    "        return res"
   ]
  },
  {
   "cell_type": "markdown",
   "metadata": {},
   "source": [
    "### Real Iteration\n",
    "To be continued"
   ]
  },
  {
   "cell_type": "code",
   "execution_count": null,
   "metadata": {
    "collapsed": true
   },
   "outputs": [],
   "source": []
  }
 ],
 "metadata": {
  "kernelspec": {
   "display_name": "Python 3",
   "language": "python",
   "name": "python3"
  },
  "language_info": {
   "codemirror_mode": {
    "name": "ipython",
    "version": 3
   },
   "file_extension": ".py",
   "mimetype": "text/x-python",
   "name": "python",
   "nbconvert_exporter": "python",
   "pygments_lexer": "ipython3",
   "version": "3.5.0"
  }
 },
 "nbformat": 4,
 "nbformat_minor": 2
}
