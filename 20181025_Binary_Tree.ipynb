{
 "cells": [
  {
   "cell_type": "markdown",
   "metadata": {},
   "source": [
    "# 1. Maximum Binary Tree (LC 654)\n",
    "Given an integer array with no duplicates. A maximum tree building on this array is defined as follow:\n",
    "\n",
    "The root is the maximum number in the array.\n",
    "The left subtree is the maximum tree constructed from left part subarray divided by the maximum number.\n",
    "The right subtree is the maximum tree constructed from right part subarray divided by the maximum number.\n",
    "Construct the maximum tree by the given array and output the root node of this tree."
   ]
  },
  {
   "cell_type": "markdown",
   "metadata": {},
   "source": [
    "### Think:\n",
    "Recursion is good, but we need to a helper function to have a different function signature.\n",
    "- First find out the maximum value index in the specified range, make a root node,\n",
    "- Then, left subarry will construct its left node, and right subarray will be its right node."
   ]
  },
  {
   "cell_type": "code",
   "execution_count": 4,
   "metadata": {
    "collapsed": true
   },
   "outputs": [],
   "source": [
    "class Solution:\n",
    "    def dfs(self, nums, start, end):\n",
    "        if start > end:\n",
    "            return\n",
    "        max_val = max(nums[start:(end+1)])\n",
    "        max_idx = nums[start:(end+1)].index(max_val) + start\n",
    "        \n",
    "        root = TreeNode(max_val)\n",
    "        root.left = self.dfs(nums, start, max_idx - 1)\n",
    "        root.right = self.dfs(nums, max_idx + 1, end)\n",
    "        \n",
    "        return root\n",
    "        \n",
    "    def constructMaximumBinaryTree(self, nums):\n",
    "        \"\"\"\n",
    "        :type nums: List[int]\n",
    "        :rtype: TreeNode\n",
    "        \"\"\"\n",
    "        root = self.dfs(nums, 0, len(nums)-1)\n",
    "        \n",
    "        return root"
   ]
  },
  {
   "cell_type": "markdown",
   "metadata": {},
   "source": [
    "# 2. Binary Tree Pruning (LC 814)\n",
    "We are given the head node root of a binary tree, where additionally every node's value is either a 0 or a 1.\n",
    "\n",
    "Return the same tree where every subtree (of the given tree) not containing a 1 has been removed.\n",
    "\n",
    "(Recall that the subtree of a node X is X, plus every node that is a descendant of X.)"
   ]
  },
  {
   "cell_type": "markdown",
   "metadata": {},
   "source": [
    "### Think:\n",
    "Actually time to return is important. We need to first get root's updated left and right children, and if they are None and root itself val is 0, we then return None. This is the pruning stage."
   ]
  },
  {
   "cell_type": "code",
   "execution_count": 5,
   "metadata": {
    "collapsed": true
   },
   "outputs": [],
   "source": [
    "# Definition for a binary tree node.\n",
    "# class TreeNode:\n",
    "#     def __init__(self, x):\n",
    "#         self.val = x\n",
    "#         self.left = None\n",
    "#         self.right = None\n",
    "\n",
    "class Solution:\n",
    "    def pruneTree(self, root):\n",
    "        \"\"\"\n",
    "        :type root: TreeNode\n",
    "        :rtype: TreeNode\n",
    "        \"\"\"\n",
    "        if root is None:\n",
    "            return root\n",
    "        root.left = self.pruneTree(root.left)\n",
    "        root.right = self.pruneTree(root.right)\n",
    "        \n",
    "        if root.left is None and root.right is None and root.val == 0:\n",
    "            return \n",
    "        return root"
   ]
  },
  {
   "cell_type": "markdown",
   "metadata": {},
   "source": [
    "# 3. Merge Two Binary Trees (LC 617)\n",
    "Given two binary trees and imagine that when you put one of them to cover the other, some nodes of the two trees are overlapped while the others are not.\n",
    "\n",
    "You need to merge them into a new binary tree. The merge rule is that if two nodes overlap, then sum node values up as the new value of the merged node. Otherwise, the NOT null node will be used as the node of new tree."
   ]
  },
  {
   "cell_type": "markdown",
   "metadata": {},
   "source": [
    "### Think:\n",
    "Recursion is a natural idea. At the beginning, it is a bit difficult to understand how to update t1's left and right child. The reason why we can update is because we return t1 at the end, so after merge t1'left and t2's left, we then return updated t1's left, which is assigned to t1.right."
   ]
  },
  {
   "cell_type": "code",
   "execution_count": 1,
   "metadata": {
    "collapsed": true
   },
   "outputs": [],
   "source": [
    "# Definition for a binary tree node.\n",
    "# class TreeNode:\n",
    "#     def __init__(self, x):\n",
    "#         self.val = x\n",
    "#         self.left = None\n",
    "#         self.right = None\n",
    "\n",
    "class Solution:\n",
    "    def mergeTrees(self, t1, t2):\n",
    "        \"\"\"\n",
    "        :type t1: TreeNode\n",
    "        :type t2: TreeNode\n",
    "        :rtype: TreeNode\n",
    "        \"\"\"\n",
    "        if t1 is None:\n",
    "            return t2\n",
    "        if t2 is None:\n",
    "            return t1\n",
    "        t1.val += t2.val\n",
    "        t1.left = self.mergeTrees(t1.left, t2.left)\n",
    "        t1.right = self.mergeTrees(t1.right, t2.right)\n",
    "        \n",
    "        return t1"
   ]
  },
  {
   "cell_type": "markdown",
   "metadata": {},
   "source": [
    "# 4. All Possible Full Binary Trees (LC 894)\n",
    "A full binary tree is a binary tree where each node has exactly 0 or 2 children.\n",
    "\n",
    "Return a list of all possible full binary trees with N nodes.  Each element of the answer is the root node of one possible tree.\n",
    "\n",
    "Each node of each tree in the answer must have node.val = 0.\n",
    "\n",
    "You may return the final list of trees in any order."
   ]
  },
  {
   "cell_type": "markdown",
   "metadata": {},
   "source": [
    "### Think:\n",
    "This is actually a recursion on the number of nodes. If we could get a full list of all possible full binary tree for any n, then this is a combination problem. It is all combinations with number of left nodes = x, right nodes = y, and x + y = N.<br>\n",
    "We can use memorization to speed up the result."
   ]
  },
  {
   "cell_type": "code",
   "execution_count": 6,
   "metadata": {
    "collapsed": true
   },
   "outputs": [],
   "source": [
    "# Definition for a binary tree node.\n",
    "# class TreeNode:\n",
    "#     def __init__(self, x):\n",
    "#         self.val = x\n",
    "#         self.left = None\n",
    "#         self.right = None\n",
    "\n",
    "class Solution:\n",
    "    d = {}\n",
    "    def allPossibleFBT(self, N):\n",
    "        \"\"\"\n",
    "        :type N: int\n",
    "        :rtype: List[TreeNode]\n",
    "        \"\"\"\n",
    "        d = Solution.d\n",
    "        res = []\n",
    "        if N == 0:\n",
    "            return res\n",
    "        if N == 1:\n",
    "            res.append(TreeNode(0))\n",
    "            return res\n",
    "        if N in d:\n",
    "            return d[N]\n",
    "        \n",
    "        for i in range(N):\n",
    "            left_cnt, right_cnt = i, N-1-i\n",
    "            left_combs = self.allPossibleFBT(left_cnt)\n",
    "            right_combs = self.allPossibleFBT(right_cnt)\n",
    "            for a in left_combs:\n",
    "                for b in right_combs:\n",
    "                    root = TreeNode(0)\n",
    "                    root.left = a\n",
    "                    root.right = b\n",
    "                    res.append(root)\n",
    "        d[N] = res\n",
    "        return res"
   ]
  },
  {
   "cell_type": "markdown",
   "metadata": {},
   "source": [
    "# 5. Insert into a Binary Search Tree (LC 701)\n",
    "Given the root node of a binary search tree (BST) and a value to be inserted into the tree, insert the value into the BST. Return the root node of the BST after the insertion. It is guaranteed that the new value does not exist in the original BST.\n",
    "\n",
    "Note that there may exist multiple valid ways for the insertion, as long as the tree remains a BST after insertion. You can return any of them."
   ]
  },
  {
   "cell_type": "markdown",
   "metadata": {},
   "source": [
    "### Think:\n",
    "Add to the leaf position, so we need to check each node's children to see if they are None."
   ]
  },
  {
   "cell_type": "code",
   "execution_count": 7,
   "metadata": {
    "collapsed": true
   },
   "outputs": [],
   "source": [
    "# Definition for a binary tree node.\n",
    "# class TreeNode:\n",
    "#     def __init__(self, x):\n",
    "#         self.val = x\n",
    "#         self.left = None\n",
    "#         self.right = None\n",
    "\n",
    "class Solution:\n",
    "    def insertIntoBST(self, root, val):\n",
    "        \"\"\"\n",
    "        :type root: TreeNode\n",
    "        :type val: int\n",
    "        :rtype: TreeNode\n",
    "        \"\"\"\n",
    "        if root is None:\n",
    "            return TreeNode(val)\n",
    "        node = root\n",
    "        \n",
    "        while node:\n",
    "            if node.val < val:\n",
    "                if node.right is None:\n",
    "                    node.right = TreeNode(val)\n",
    "                    return root\n",
    "                node = node.right\n",
    "            else:\n",
    "                if node.left is None:\n",
    "                    node.left = TreeNode(val)\n",
    "                    return root\n",
    "                node = node.left"
   ]
  },
  {
   "cell_type": "code",
   "execution_count": 8,
   "metadata": {
    "collapsed": true
   },
   "outputs": [],
   "source": [
    "\n",
    "# Definition for a binary tree node.\n",
    "# class TreeNode:\n",
    "#     def __init__(self, x):\n",
    "#         self.val = x\n",
    "#         self.left = None\n",
    "#         self.right = None\n",
    "\n",
    "class Solution:\n",
    "    def insertIntoBST(self, root, val):\n",
    "        \"\"\"\n",
    "        :type root: TreeNode\n",
    "        :type val: int\n",
    "        :rtype: TreeNode\n",
    "        \"\"\"\n",
    "        # Recursion is easier to implement\n",
    "        if root is None:\n",
    "            return TreeNode(val)\n",
    "        if root.val > val:\n",
    "            root.left = self.insertIntoBST(root.left, val)\n",
    "        else:\n",
    "            root.right = self.insertIntoBST(root.right, val)\n",
    "        return root"
   ]
  },
  {
   "cell_type": "markdown",
   "metadata": {},
   "source": [
    "# 6. Search in a Binary Search Tree (LC 700)\n",
    "Given the root node of a binary search tree (BST) and a value. You need to find the node in the BST that the node's value equals the given value. Return the subtree rooted with that node. If such node doesn't exist, you should return NULL."
   ]
  },
  {
   "cell_type": "markdown",
   "metadata": {},
   "source": [
    "### Think:\n",
    "Since it is a binary search tree, we can traverse down BST to find the node we need. Note that we always need to first check if this is node is None before getting its val attribute as None may not have val attribute.<br>\n",
    "We can actually do it both recursively and iterative."
   ]
  },
  {
   "cell_type": "code",
   "execution_count": 2,
   "metadata": {
    "collapsed": true
   },
   "outputs": [],
   "source": [
    "# Iterative\n",
    "# Definition for a binary tree node.\n",
    "# class TreeNode:\n",
    "#     def __init__(self, x):\n",
    "#         self.val = x\n",
    "#         self.left = None\n",
    "#         self.right = None\n",
    "\n",
    "class Solution:\n",
    "    def searchBST(self, root, val):\n",
    "        \"\"\"\n",
    "        :type root: TreeNode\n",
    "        :type val: int\n",
    "        :rtype: TreeNode\n",
    "        \"\"\"\n",
    "        if root is None:\n",
    "            return \n",
    "        node = root\n",
    "        while node:\n",
    "            if node.val == val:\n",
    "                return node\n",
    "            elif node.val < val:\n",
    "                node = node.right\n",
    "            else:\n",
    "                node = node.left\n",
    "        return node"
   ]
  },
  {
   "cell_type": "code",
   "execution_count": 3,
   "metadata": {
    "collapsed": true
   },
   "outputs": [],
   "source": [
    "# Recursion\n",
    "# Definition for a binary tree node.\n",
    "# class TreeNode:\n",
    "#     def __init__(self, x):\n",
    "#         self.val = x\n",
    "#         self.left = None\n",
    "#         self.right = None\n",
    "\n",
    "class Solution:\n",
    "    def searchBST(self, root, val):\n",
    "        \"\"\"\n",
    "        :type root: TreeNode\n",
    "        :type val: int\n",
    "        :rtype: TreeNode\n",
    "        \"\"\"\n",
    "        if root is None or root.val == val:\n",
    "            return root\n",
    "        if root.val < val:\n",
    "            return self.searchBST(root.right, val)\n",
    "        else:\n",
    "            return self.searchBST(root.left, val)"
   ]
  },
  {
   "cell_type": "markdown",
   "metadata": {},
   "source": [
    "# 7. N-ary Tree Postorder Traversal (LC 590)\n",
    "Given an n-ary tree, return the postorder traversal of its nodes' values."
   ]
  },
  {
   "cell_type": "markdown",
   "metadata": {},
   "source": [
    "### Think:\n",
    "Recursion is trivial. We can also do it iteratively.\n",
    "For iteration, we can actually use a trick. If we do it in pre-order but change the way we traverse children, then it is good.\n",
    "- Preorder, NLR\n",
    "- Postorder, LRN\n",
    "\n",
    "So if we do preorder, but visit right child first, then we have NRL, and if we reverse it, we will get LRN."
   ]
  },
  {
   "cell_type": "code",
   "execution_count": 9,
   "metadata": {
    "collapsed": true
   },
   "outputs": [],
   "source": [
    "# Recursion\n",
    "class Solution(object):\n",
    "    def postorder(self, root):\n",
    "        \"\"\"\n",
    "        :type root: Node\n",
    "        :rtype: List[int]\n",
    "        \"\"\"\n",
    "        res = []\n",
    "        if root is None:\n",
    "            return res\n",
    "        for p in root.children:\n",
    "            res += self.postorder(p)\n",
    "        res.append(root.val)\n",
    "        \n",
    "        return res"
   ]
  },
  {
   "cell_type": "code",
   "execution_count": 10,
   "metadata": {
    "collapsed": true
   },
   "outputs": [],
   "source": [
    "# Iteration\n",
    "class Solution(object):\n",
    "    def postorder(self, root):\n",
    "        \"\"\"\n",
    "        :type root: Node\n",
    "        :rtype: List[int]\n",
    "        \"\"\"\n",
    "        if root is None:\n",
    "            return []\n",
    "        res = []\n",
    "        stack = [root]\n",
    "        \n",
    "        while stack:\n",
    "            p = stack.pop()\n",
    "            res.append(p.val)\n",
    "            for child in p.children:\n",
    "                if child:\n",
    "                    stack.append(child)\n",
    "        return res[::-1]"
   ]
  },
  {
   "cell_type": "markdown",
   "metadata": {},
   "source": [
    "# 8. N-ary Tree Preorder Traversal (LC 589)\n",
    "Given an n-ary tree, return the preorder traversal of its nodes' values."
   ]
  },
  {
   "cell_type": "markdown",
   "metadata": {},
   "source": [
    "### Think:\n",
    "Similar to above idea."
   ]
  },
  {
   "cell_type": "code",
   "execution_count": 11,
   "metadata": {
    "collapsed": true
   },
   "outputs": [],
   "source": [
    "class Solution(object):\n",
    "    def preorder(self, root):\n",
    "        \"\"\"\n",
    "        :type root: Node\n",
    "        :rtype: List[int]\n",
    "        \"\"\"\n",
    "        if root is None:\n",
    "            return []\n",
    "        res = []\n",
    "        stack = [root]\n",
    "        while stack:\n",
    "            p = stack.pop()\n",
    "            res.append(p.val)\n",
    "            for child in reversed(p.children):\n",
    "                stack.append(child)\n",
    "        \n",
    "        return res"
   ]
  },
  {
   "cell_type": "markdown",
   "metadata": {},
   "source": [
    "# 9. Maximum Depth of N-ary Tree (LC 559)\n",
    "Given a n-ary tree, find its maximum depth.\n",
    "\n",
    "The maximum depth is the number of nodes along the longest path from the root node down to the farthest leaf node."
   ]
  },
  {
   "cell_type": "markdown",
   "metadata": {},
   "source": [
    "### Think:\n",
    "Recursion is similar to binary tree solution, we can use BFS to do it iteratively as well."
   ]
  },
  {
   "cell_type": "code",
   "execution_count": 15,
   "metadata": {
    "collapsed": true
   },
   "outputs": [],
   "source": [
    "# Recursion\n",
    "class Solution(object):\n",
    "    def maxDepth(self, root):\n",
    "        \"\"\"\n",
    "        :type root: Node\n",
    "        :rtype: int\n",
    "        \"\"\"\n",
    "        if root is None:\n",
    "            return 0\n",
    "        return (1 + \n",
    "                (max(self.maxDepth(p) for p in root.children) if root.children else 0))"
   ]
  },
  {
   "cell_type": "code",
   "execution_count": 16,
   "metadata": {
    "collapsed": true
   },
   "outputs": [],
   "source": [
    "# Iteration\n",
    "class Solution(object):\n",
    "    def maxDepth(self, root):\n",
    "        \"\"\"\n",
    "        :type root: Node\n",
    "        :rtype: int\n",
    "        \"\"\"\n",
    "        if root is None:\n",
    "            return 0\n",
    "        curr_level = [root]\n",
    "        steps = 0\n",
    "        while curr_level:\n",
    "            next_level = []\n",
    "            for p in curr_level:\n",
    "                for q in p.children:\n",
    "                    if q:\n",
    "                        next_level.append(q)\n",
    "            curr_level = next_level\n",
    "            steps += 1\n",
    "        return steps\n",
    "        "
   ]
  },
  {
   "cell_type": "markdown",
   "metadata": {},
   "source": [
    "# 10. Leaf Similar Trees (LC 872)\n",
    "Consider all the leaves of a binary tree.  From left to right order, the values of those leaves form a leaf value sequence."
   ]
  },
  {
   "cell_type": "markdown",
   "metadata": {},
   "source": [
    "### Think:\n",
    "This doesn't look like a recursion problem because tress can have different structures."
   ]
  },
  {
   "cell_type": "code",
   "execution_count": 17,
   "metadata": {
    "collapsed": true
   },
   "outputs": [],
   "source": [
    "class Solution(object):\n",
    "    def pre_order(self, node):\n",
    "        res = []\n",
    "        if node is None:\n",
    "            return res\n",
    "        stack = [node]\n",
    "        while stack:\n",
    "            p = stack.pop()\n",
    "            if p.left is None and p.right is None:\n",
    "                res.append(p.val)\n",
    "            else:\n",
    "                if p.right:\n",
    "                    stack.append(p.right)\n",
    "                if p.left:\n",
    "                    stack.append(p.left)\n",
    "        return res\n",
    "    \n",
    "    def leafSimilar(self, root1, root2):\n",
    "        \"\"\"\n",
    "        :type root1: TreeNode\n",
    "        :type root2: TreeNode\n",
    "        :rtype: bool\n",
    "        \"\"\"\n",
    "        res_1, res_2 = self.pre_order(root1), self.pre_order(root2)\n",
    "        return res_1 == res_2"
   ]
  },
  {
   "cell_type": "markdown",
   "metadata": {},
   "source": [
    "# 11. Trim a Binary Search Tree (LC 669)\n",
    "Given a binary search tree and the lowest and highest boundaries as L and R, trim the tree so that all its elements lies in [L, R] (R >= L). You might need to change the root of the tree, so the result should return the new root of the trimmed binary search tree."
   ]
  },
  {
   "cell_type": "code",
   "execution_count": 18,
   "metadata": {
    "collapsed": true
   },
   "outputs": [],
   "source": [
    "class Solution(object):\n",
    "    def trimBST(self, root, L, R):\n",
    "        \"\"\"\n",
    "        :type root: TreeNode\n",
    "        :type L: int\n",
    "        :type R: int\n",
    "        :rtype: TreeNode\n",
    "        \"\"\"\n",
    "        if root is None:\n",
    "            return \n",
    "        if root.val < L:\n",
    "            return self.trimBST(root.right, L, R)\n",
    "        if root.val > R:\n",
    "            return self.trimBST(root.left, L, R)\n",
    "        root.left = self.trimBST(root.left, L, R)\n",
    "        root.right = self.trimBST(root.right, L, R)\n",
    "        \n",
    "        return root"
   ]
  },
  {
   "cell_type": "markdown",
   "metadata": {},
   "source": [
    "# 12. Increasing Order Search Tree (LC 897)\n",
    "Given a tree, rearrange the tree in in-order so that the leftmost node in the tree is now the root of the tree, and every node has no left child and only 1 right child."
   ]
  },
  {
   "cell_type": "code",
   "execution_count": 19,
   "metadata": {
    "collapsed": true
   },
   "outputs": [],
   "source": [
    "class Solution(object):\n",
    "    def increasingBST(self, root):\n",
    "        \"\"\"\n",
    "        :type root: TreeNode\n",
    "        :rtype: TreeNode\n",
    "        \"\"\"\n",
    "        if root is None:\n",
    "            return\n",
    "        left = self.increasingBST(root.left)\n",
    "        right = self.increasingBST(root.right)\n",
    "        if left is None:\n",
    "            root.right = right\n",
    "            return root\n",
    "        node = left\n",
    "        while node.right:\n",
    "            node = node.right\n",
    "        node.right = root\n",
    "        root.left = None\n",
    "        root.right = right\n",
    "        \n",
    "        return left"
   ]
  },
  {
   "cell_type": "markdown",
   "metadata": {},
   "source": [
    "# 13. Maximum Depth of Binary Tree (LC 104)\n",
    "Given a binary tree, find its maximum depth.\n",
    "\n",
    "The maximum depth is the number of nodes along the longest path from the root node down to the farthest leaf node.\n",
    "\n",
    "Note: A leaf is a node with no children."
   ]
  },
  {
   "cell_type": "code",
   "execution_count": 20,
   "metadata": {
    "collapsed": true
   },
   "outputs": [],
   "source": [
    "# Recursion\n",
    "class Solution(object):\n",
    "    def maxDepth(self, root):\n",
    "        \"\"\"\n",
    "        :type root: TreeNode\n",
    "        :rtype: int\n",
    "        \"\"\"\n",
    "        if root is None:\n",
    "            return 0\n",
    "        return 1 + max(self.maxDepth(root.left), self.maxDepth(root.right))"
   ]
  },
  {
   "cell_type": "code",
   "execution_count": 22,
   "metadata": {
    "collapsed": true
   },
   "outputs": [],
   "source": [
    "# Iteration\n",
    "class Solution(object):\n",
    "    def maxDepth(self, root):\n",
    "        \"\"\"\n",
    "        :type root: TreeNode\n",
    "        :rtype: int\n",
    "        \"\"\"\n",
    "        if root is None:\n",
    "            return 0\n",
    "        steps = 0\n",
    "        curr_level = [root]\n",
    "        while curr_level:\n",
    "            curr_level = [x for p in curr_level for x in [p.left, p.right] if x]\n",
    "            steps += 1\n",
    "        \n",
    "        return steps"
   ]
  },
  {
   "cell_type": "markdown",
   "metadata": {},
   "source": [
    "# 14. Find Bottom Left Tree Value (LC 513)\n",
    "Given a binary tree, find the leftmost value in the last row of the tree."
   ]
  },
  {
   "cell_type": "markdown",
   "metadata": {},
   "source": [
    "### Think:\n",
    "BFS or level traverse could solve this problem, although recursion is also doable."
   ]
  },
  {
   "cell_type": "code",
   "execution_count": 23,
   "metadata": {
    "collapsed": true
   },
   "outputs": [],
   "source": [
    "class Solution(object):\n",
    "    def findBottomLeftValue(self, root):\n",
    "        \"\"\"\n",
    "        :type root: TreeNode\n",
    "        :rtype: int\n",
    "        \"\"\"\n",
    "        curr_level = [root]\n",
    "        while curr_level:\n",
    "            next_level = []\n",
    "            for p in curr_level:\n",
    "                for q in [p.left, p.right]:\n",
    "                    if q:\n",
    "                        next_level.append(q)\n",
    "            if next_level:\n",
    "                curr_level = next_level\n",
    "            else:\n",
    "                break\n",
    "        return curr_level[0].val"
   ]
  },
  {
   "cell_type": "markdown",
   "metadata": {},
   "source": [
    "# 15. Average of Levels in Binary Tree (LC 637)\n",
    "Given a non-empty binary tree, return the average value of the nodes on each level in the form of an array."
   ]
  },
  {
   "cell_type": "code",
   "execution_count": 24,
   "metadata": {
    "collapsed": true
   },
   "outputs": [],
   "source": [
    "class Solution:\n",
    "    def averageOfLevels(self, root):\n",
    "        \"\"\"\n",
    "        :type root: TreeNode\n",
    "        :rtype: List[float]\n",
    "        \"\"\"\n",
    "        curr = [root]\n",
    "        res = []\n",
    "        while any(curr):\n",
    "            res.append(sum(p.val for p in curr) / len(curr))\n",
    "            curr = [q for p in curr for q in [p.left, p.right] if q]\n",
    "        \n",
    "        return res"
   ]
  },
  {
   "cell_type": "markdown",
   "metadata": {},
   "source": [
    "# 16. Find Largest Value in Each Tree Row (LC 515)\n",
    "You need to find the largest value in each row of a binary tree."
   ]
  },
  {
   "cell_type": "code",
   "execution_count": 25,
   "metadata": {
    "collapsed": true
   },
   "outputs": [],
   "source": [
    "class Solution:\n",
    "    def largestValues(self, root):\n",
    "        \"\"\"\n",
    "        :type root: TreeNode\n",
    "        :rtype: List[int]\n",
    "        \"\"\"\n",
    "        if root is None:\n",
    "            return []\n",
    "        res = []\n",
    "        curr_level = [root]\n",
    "        while curr_level:\n",
    "            res.append(max(p.val for p in curr_level))\n",
    "            curr_level = [q for p in curr_level for q in [p.left, p.right] if q]\n",
    "        return res"
   ]
  },
  {
   "cell_type": "markdown",
   "metadata": {},
   "source": [
    "# 17. Invert Binary Tree (LC 226)\n",
    "Invert a binary tree."
   ]
  },
  {
   "cell_type": "code",
   "execution_count": 26,
   "metadata": {
    "collapsed": true
   },
   "outputs": [],
   "source": [
    "class Solution:\n",
    "    def invertTree(self, root):\n",
    "        \"\"\"\n",
    "        :type root: TreeNode\n",
    "        :rtype: TreeNode\n",
    "        \"\"\"\n",
    "        if root is None:\n",
    "            return \n",
    "        root.left, root.right = self.invertTree(root.right), self.invertTree(root.left)\n",
    "        return root"
   ]
  },
  {
   "cell_type": "code",
   "execution_count": 27,
   "metadata": {
    "collapsed": true
   },
   "outputs": [],
   "source": [
    "class Solution(object):\n",
    "    def levelOrder(self, root):\n",
    "        \"\"\"\n",
    "        :type root: Node\n",
    "        :rtype: List[List[int]]\n",
    "        \"\"\"\n",
    "        res = []\n",
    "        if root is None:\n",
    "            return res\n",
    "        curr_level = [root]\n",
    "        while curr_level:\n",
    "            res.append([p.val for p in curr_level])\n",
    "            curr_level = [q for p in curr_level for q in p.children if q]\n",
    "        return res"
   ]
  },
  {
   "cell_type": "markdown",
   "metadata": {},
   "source": [
    "# 18. Construct Binary Tree from Preorder and Postorder Traversal (LC 889)\n",
    "Return any binary tree that matches the given preorder and postorder traversals.\n",
    "\n",
    "Values in the traversals pre and post are distinct positive integers."
   ]
  },
  {
   "cell_type": "markdown",
   "metadata": {
    "collapsed": true
   },
   "source": [
    "### Think:\n",
    "Note,\n",
    "- 1. Preorder + inorder will determine a tree uniquely,\n",
    "- 2. Postorder + inorder can determin a tree uniquely as well,\n",
    "- 3. Preorder + postorder cannot. This can be verified saying if we have two nodes, then root with left child or root with right child will have the same preorder and postorder traversals."
   ]
  },
  {
   "cell_type": "code",
   "execution_count": 1,
   "metadata": {
    "collapsed": true
   },
   "outputs": [],
   "source": [
    "class Solution:\n",
    "    def dfs(self, pre, post, pre_start, pre_end, post_start, post_end):\n",
    "        if pre_start > pre_end:\n",
    "            return\n",
    "        if pre_start == pre_end:\n",
    "            return TreeNode(pre[pre_start])\n",
    "        # Pre,  NLR\n",
    "        # Post, LRN\n",
    "        val = pre[pre_start]\n",
    "        root = TreeNode(val)\n",
    "        \n",
    "        pre_start += 1\n",
    "        post_end -= 1\n",
    "        \n",
    "        right_val = post[post_end]\n",
    "        idx = pre.index(right_val)\n",
    "        cnt = idx - pre_start\n",
    "        \n",
    "        root.left = self.dfs(pre, post, pre_start, pre_start + cnt - 1, post_start, post_start + cnt - 1)\n",
    "        root.right = self.dfs(pre, post, pre_start + cnt, pre_end, post_start + cnt, post_end)\n",
    "        \n",
    "        return root\n",
    "        \n",
    "    def constructFromPrePost(self, pre, post):\n",
    "        \"\"\"\n",
    "        :type pre: List[int]\n",
    "        :type post: List[int]\n",
    "        :rtype: TreeNode\n",
    "        \"\"\"\n",
    "        \n",
    "        root = self.dfs(pre, post, 0, len(pre)-1, 0, len(post)-1)\n",
    "        return root"
   ]
  },
  {
   "cell_type": "markdown",
   "metadata": {},
   "source": [
    "# 19. Most Frequent Subtree Sum (LC 508)\n",
    "Given the root of a tree, you are asked to find the most frequent subtree sum. The subtree sum of a node is defined as the sum of all the node values formed by the subtree rooted at that node (including the node itself). So what is the most frequent subtree sum value? If there is a tie, return all the values with the highest frequency in any order."
   ]
  },
  {
   "cell_type": "markdown",
   "metadata": {},
   "source": [
    "### Think:\n",
    "Use a dict/hasmap to store counts"
   ]
  },
  {
   "cell_type": "code",
   "execution_count": 2,
   "metadata": {
    "collapsed": true
   },
   "outputs": [],
   "source": [
    "class Solution:\n",
    "    def count_sum(self, root, d):\n",
    "        if root is None:\n",
    "            return 0\n",
    "        left_sum = self.count_sum(root.left, d)\n",
    "        right_sum = self.count_sum(root.right, d)\n",
    "        total_sum = left_sum + right_sum + root.val\n",
    "        d[total_sum] += 1\n",
    "        \n",
    "        return total_sum\n",
    "        \n",
    "    def findFrequentTreeSum(self, root):\n",
    "        \"\"\"\n",
    "        :type root: TreeNode\n",
    "        :rtype: List[int]\n",
    "        \"\"\"\n",
    "        if not root:\n",
    "            return []\n",
    "        d = collections.defaultdict(int)\n",
    "        \n",
    "        self.count_sum(root, d)\n",
    "        \n",
    "        max_cnt = max(v for c, v in d.items())\n",
    "        res = [c for c in d if d[c] == max_cnt]\n",
    "        \n",
    "        return res"
   ]
  },
  {
   "cell_type": "markdown",
   "metadata": {},
   "source": [
    "# 20. Binary Tree Inorder Traversal (LC 94)\n",
    "Given a binary tree, return the inorder traversal of its nodes' values."
   ]
  },
  {
   "cell_type": "markdown",
   "metadata": {},
   "source": [
    "### Think:\n",
    "Left -> Node -> Right, recursion is trivial, let's do it in iteration using Stack."
   ]
  },
  {
   "cell_type": "code",
   "execution_count": 3,
   "metadata": {
    "collapsed": true
   },
   "outputs": [],
   "source": [
    "class Solution:\n",
    "    def inorderTraversal(self, root):\n",
    "        \"\"\"\n",
    "        :type root: TreeNode\n",
    "        :rtype: List[int]\n",
    "        \"\"\"\n",
    "        node, stack = root, []\n",
    "        res = []\n",
    "        while stack or node:\n",
    "            if node:\n",
    "                stack.append(node)\n",
    "                node = node.left\n",
    "            else:\n",
    "                node = stack.pop()\n",
    "                res.append(node.val)\n",
    "                node = node.right\n",
    "        return res"
   ]
  },
  {
   "cell_type": "markdown",
   "metadata": {},
   "source": [
    "# 21. Smallest Subtree with all the Deepest Nodes (LC 865)\n",
    "Given a binary tree rooted at root, the depth of each node is the shortest distance to the root.\n",
    "\n",
    "A node is deepest if it has the largest depth possible among any node in the entire tree.\n",
    "\n",
    "The subtree of a node is that node, plus the set of all descendants of that node.\n",
    "\n",
    "Return the node with the largest depth such that it contains all the deepest nodes in its subtree."
   ]
  },
  {
   "cell_type": "markdown",
   "metadata": {},
   "source": [
    "### Think:\n",
    "Naively we can have a helper function to calc tree depth, and find their lowest common ancestor(LCA). i.e. if left node depth is equal to right node depth, then root is the LCA, else if left depth is larger, then LCA must be in left subtree, and vice versa. But there might be duplicate calculation and not optimal."
   ]
  },
  {
   "cell_type": "code",
   "execution_count": 5,
   "metadata": {
    "collapsed": true
   },
   "outputs": [],
   "source": [
    "class Solution:\n",
    "    def depth(self, node):\n",
    "        if node is None:\n",
    "            return 0\n",
    "        return 1 + max(self.depth(node.left), self.depth(node.right))\n",
    "    \n",
    "    def subtreeWithAllDeepest(self, root):\n",
    "        \"\"\"\n",
    "        :type root: TreeNode\n",
    "        :rtype: TreeNode\n",
    "        \"\"\"\n",
    "        if root is None:\n",
    "            return\n",
    "        left_depth = self.depth(root.left)\n",
    "        right_depth = self.depth(root.right)\n",
    "        if left_depth == right_depth:\n",
    "            return root\n",
    "        elif left_depth < right_depth:\n",
    "            return self.subtreeWithAllDeepest(root.right)\n",
    "        else:\n",
    "            return self.subtreeWithAllDeepest(root.left)"
   ]
  },
  {
   "cell_type": "markdown",
   "metadata": {},
   "source": [
    "### Another think:\n",
    "If we want to optimize it, a simple way is to return not only heights but also node itself."
   ]
  },
  {
   "cell_type": "code",
   "execution_count": 6,
   "metadata": {
    "collapsed": true
   },
   "outputs": [],
   "source": [
    "class Solution:\n",
    "    def depth(self, node):\n",
    "        if node is None:\n",
    "            return 0, None\n",
    "        left_info = self.depth(node.left)\n",
    "        right_info = self.depth(node.right)\n",
    "        if left_info[0] == right_info[0]:\n",
    "            return left_info[0] + 1, node\n",
    "        elif left_info[0] > right_info[0]:\n",
    "            return left_info[0] + 1, left_info[1]\n",
    "        else:\n",
    "            return right_info[0] + 1, right_info[1]\n",
    "            \n",
    "    \n",
    "    def subtreeWithAllDeepest(self, root):\n",
    "        \"\"\"\n",
    "        :type root: TreeNode\n",
    "        :rtype: TreeNode\n",
    "        \"\"\"\n",
    "        res = self.depth(root)\n",
    "        return res[1]"
   ]
  },
  {
   "cell_type": "markdown",
   "metadata": {},
   "source": [
    "# 22. Two Sum IV - Input is a BST (LC 653)\n",
    "Given a Binary Search Tree and a target number, return true if there exist two elements in the BST such that their sum is equal to the given target."
   ]
  },
  {
   "cell_type": "markdown",
   "metadata": {},
   "source": [
    "### Think:\n",
    "Similar as 2 sum, using a hashmap to save node value can definitely solve this problem."
   ]
  },
  {
   "cell_type": "code",
   "execution_count": 7,
   "metadata": {
    "collapsed": true
   },
   "outputs": [],
   "source": [
    "class Solution:\n",
    "    def find_node_sum(self, first, root, target):\n",
    "        if first is None:\n",
    "            return False\n",
    "        target = target - first.val\n",
    "        \n",
    "        node = root\n",
    "        while node:\n",
    "            if node.val == target:\n",
    "                if node is first:\n",
    "                    return False\n",
    "                else:\n",
    "                    return True\n",
    "            elif node.val < target:\n",
    "                node = node.right\n",
    "            else:\n",
    "                node = node.left\n",
    "        return False\n",
    "\n",
    "    def find_sum(self, first, root, target):\n",
    "        if first is None:\n",
    "            return False\n",
    "        \n",
    "        return (self.find_node_sum(first, root, target)\n",
    "                or self.find_sum(first.left, root, target)\n",
    "                or self.find_sum(first.right, root, target)\n",
    "               )\n",
    "        \n",
    "    \n",
    "    def findTarget(self, root, k):\n",
    "        \"\"\"\n",
    "        :type root: TreeNode\n",
    "        :type k: int\n",
    "        :rtype: bool\n",
    "        \"\"\"\n",
    "        return self.find_sum(root, root, k)"
   ]
  },
  {
   "cell_type": "code",
   "execution_count": 8,
   "metadata": {
    "collapsed": true
   },
   "outputs": [],
   "source": [
    "class Solution:\n",
    "    def dfs(self, node, target, d):\n",
    "        if node is None:\n",
    "            return False\n",
    "        \n",
    "        val = node.val\n",
    "        if target - val in d:\n",
    "            return True\n",
    "        \n",
    "        d.add(val)\n",
    "        return self.dfs(node.left, target, d) or self.dfs(node.right, target, d)\n",
    "        \n",
    "        \n",
    "    def findTarget(self, root, k):\n",
    "        \"\"\"\n",
    "        :type root: TreeNode\n",
    "        :type k: int\n",
    "        :rtype: bool\n",
    "        \"\"\"\n",
    "        d = set()\n",
    "        return self.dfs(root, k, d)"
   ]
  },
  {
   "cell_type": "markdown",
   "metadata": {},
   "source": [
    "# 23. Construct String from Binary Tree (LC 606)\n",
    "You need to construct a string consists of parenthesis and integers from a binary tree with the preorder traversing way.\n",
    "\n",
    "The null node needs to be represented by empty parenthesis pair \"()\". And you need to omit all the empty parenthesis pairs that don't affect the one-to-one mapping relationship between the string and the original binary tree."
   ]
  },
  {
   "cell_type": "markdown",
   "metadata": {},
   "source": [
    "### Think:\n",
    "The idea is that no matter whether left node string is empty or not, we need to enclose it with parentheses, but if right node string is empty, we don't need to do that."
   ]
  },
  {
   "cell_type": "code",
   "execution_count": 1,
   "metadata": {
    "collapsed": true
   },
   "outputs": [],
   "source": [
    "class Solution:\n",
    "    def tree2str(self, t):\n",
    "        \"\"\"\n",
    "        :type t: TreeNode\n",
    "        :rtype: str\n",
    "        \"\"\"\n",
    "        if t is None:\n",
    "            return ''\n",
    "        if t.left is None and t.right is None:\n",
    "            return str(t.val)\n",
    "        left_str = self.tree2str(t.left)\n",
    "        right_str = self.tree2str(t.right)\n",
    "        res = str(t.val) + '(%s)' % left_str\n",
    "        if right_str:\n",
    "            res = res + '(%s)' % right_str\n",
    "        \n",
    "        return res"
   ]
  },
  {
   "cell_type": "markdown",
   "metadata": {},
   "source": [
    "# 24. Print Binary Tree (LC 655)\n",
    "Print a binary tree in an m*n 2D string array following these rules:\n",
    "\n",
    "The row number m should be equal to the height of the given binary tree.\n",
    "The column number n should always be an odd number.\n",
    "The root node's value (in string format) should be put in the exactly middle of the first row it can be put. The column and the row where the root node belongs will separate the rest space into two parts (left-bottom part and right-bottom part). You should print the left subtree in the left-bottom part and print the right subtree in the right-bottom part. The left-bottom part and the right-bottom part should have the same size. Even if one subtree is none while the other is not, you don't need to print anything for the none subtree but still need to leave the space as large as that for the other subtree. However, if two subtrees are none, then you don't need to leave space for both of them.\n",
    "Each unused space should contain an empty string \"\".\n",
    "Print the subtrees following the same rules."
   ]
  },
  {
   "cell_type": "markdown",
   "metadata": {},
   "source": [
    "### Think:\n",
    "This is essentially printing a complete tree. In order to know how many cells for each row, we need to know the height of the tree, then for height h, each row should have 2^h - 1 cells. Also when move to next level, the steps we need  to move is 2^(height - depth - 2)."
   ]
  },
  {
   "cell_type": "code",
   "execution_count": 2,
   "metadata": {
    "collapsed": true
   },
   "outputs": [],
   "source": [
    "class Solution:\n",
    "    def height(self, node):\n",
    "        if node is None:\n",
    "            return 0\n",
    "        return 1 + max(self.height(node.left), self.height(node.right))\n",
    "    \n",
    "    def print_help(self, node, idx, depth, h, res):\n",
    "        if node is None:\n",
    "            return\n",
    "        res[depth][idx] = str(node.val)\n",
    "        cnt = 2**(h - depth - 2)\n",
    "        self.print_help(node.left, idx - cnt, depth + 1, h, res)\n",
    "        self.print_help(node.right, idx + cnt, depth + 1, h, res)\n",
    "        \n",
    "        \n",
    "    def printTree(self, root):\n",
    "        \"\"\"\n",
    "        :type root: TreeNode\n",
    "        :rtype: List[List[str]]\n",
    "        \"\"\"\n",
    "        h = self.height(root)\n",
    "        res = [['' for _ in range(2**h - 1)] for _ in range(h)]\n",
    "        \n",
    "        mid = (2**h - 1) // 2\n",
    "        self.print_help(root, mid, 0, h, res)\n",
    "        \n",
    "        return res"
   ]
  },
  {
   "cell_type": "markdown",
   "metadata": {},
   "source": [
    "# 25. Convert BST to Greater Tree (LC 538)\n",
    "Given a Binary Search Tree (BST), convert it to a Greater Tree such that every key of the original BST is changed to the original key plus sum of all keys greater than the original key in BST."
   ]
  },
  {
   "cell_type": "code",
   "execution_count": 9,
   "metadata": {
    "collapsed": true
   },
   "outputs": [],
   "source": [
    "class Solution:\n",
    "    def dfs(self, node, curr_sum):\n",
    "        if node is None:\n",
    "            return curr_sum\n",
    "        right_sum = self.dfs(node.right, curr_sum)\n",
    "        node.val += right_sum\n",
    "        left_sum = self.dfs(node.left, node.val)\n",
    "        return left_sum\n",
    "        \n",
    "        \n",
    "    def convertBST(self, root):\n",
    "        \"\"\"\n",
    "        :type root: TreeNode\n",
    "        :rtype: TreeNode\n",
    "        \"\"\"\n",
    "        self.dfs(root, 0)\n",
    "        return root"
   ]
  },
  {
   "cell_type": "markdown",
   "metadata": {},
   "source": [
    "# 26. Binary Tree Preorder Traversal (LC 144)\n",
    "Given a binary tree, return the preorder traversal of its nodes' values."
   ]
  },
  {
   "cell_type": "markdown",
   "metadata": {},
   "source": [
    "### Think:\n",
    "BFS level traversal"
   ]
  },
  {
   "cell_type": "code",
   "execution_count": 3,
   "metadata": {
    "collapsed": true
   },
   "outputs": [],
   "source": [
    "class Solution:\n",
    "    def preorderTraversal(self, root):\n",
    "        \"\"\"\n",
    "        :type root: TreeNode\n",
    "        :rtype: List[int]\n",
    "        \"\"\"\n",
    "        res = []\n",
    "        if root is None:\n",
    "            return res\n",
    "        stack = [root]\n",
    "        \n",
    "        while stack:\n",
    "            p = stack.pop()\n",
    "            res.append(p.val)\n",
    "            if p.right:\n",
    "                stack.append(p.right)\n",
    "            if p.left:\n",
    "                stack.append(p.left)\n",
    "        return res"
   ]
  },
  {
   "cell_type": "markdown",
   "metadata": {},
   "source": [
    "# 27. Same Tree (LC 100)\n",
    "Given two binary trees, write a function to check if they are the same or not.\n",
    "\n",
    "Two binary trees are considered the same if they are structurally identical and the nodes have the same value."
   ]
  },
  {
   "cell_type": "markdown",
   "metadata": {},
   "source": [
    "### Think:\n",
    "Recursively check each node."
   ]
  },
  {
   "cell_type": "code",
   "execution_count": 4,
   "metadata": {
    "collapsed": true
   },
   "outputs": [],
   "source": [
    "class Solution:\n",
    "    def isSameTree(self, p, q):\n",
    "        \"\"\"\n",
    "        :type p: TreeNode\n",
    "        :type q: TreeNode\n",
    "        :rtype: bool\n",
    "        \"\"\"\n",
    "        if p is None and q is None:\n",
    "            return True\n",
    "        if p is None or q is None:\n",
    "            return False\n",
    "        return (p.val == q.val \n",
    "                and self.isSameTree(p.left, q.left)\n",
    "                and self.isSameTree(p.right, q.right))"
   ]
  },
  {
   "cell_type": "markdown",
   "metadata": {},
   "source": [
    "# 28. Sum of Left Leaves (LC 104)\n",
    "Find the sum of all left leaves in a given binary tree."
   ]
  },
  {
   "cell_type": "markdown",
   "metadata": {},
   "source": [
    "### Think:\n",
    "We can do it recursively and iteratively. For recursively, we return total left leave sum for current node. For each recursion, we check if the node's left node is a leave node.<br>\n",
    "We can also do it iteratively. i.e. we BFS level traverse the tree. For each node check if its left node is a leaf node."
   ]
  },
  {
   "cell_type": "code",
   "execution_count": 7,
   "metadata": {
    "collapsed": true
   },
   "outputs": [],
   "source": [
    "# Recursively\n",
    "class Solution:\n",
    "    def dfs(self, node):\n",
    "        if node is None:\n",
    "            return 0\n",
    "        total = 0\n",
    "        if node.left:\n",
    "            if node.left.left is None and node.left.right is None:\n",
    "                total += node.left.val\n",
    "            else:\n",
    "                total += self.dfs(node.left)\n",
    "        total += self.dfs(node.right)\n",
    "        return total\n",
    "            \n",
    "    def sumOfLeftLeaves(self, root):\n",
    "        \"\"\"\n",
    "        :type root: TreeNode\n",
    "        :rtype: int\n",
    "        \"\"\"\n",
    "        \n",
    "        return self.dfs(root)"
   ]
  },
  {
   "cell_type": "code",
   "execution_count": 8,
   "metadata": {
    "collapsed": true
   },
   "outputs": [],
   "source": [
    "# Iterative\n",
    "class Solution:\n",
    "    def sumOfLeftLeaves(self, root):\n",
    "        \"\"\"\n",
    "        :type root: TreeNode\n",
    "        :rtype: int\n",
    "        \"\"\"\n",
    "        if root is None:\n",
    "            return 0\n",
    "        total = 0 \n",
    "        stack = [root]\n",
    "        \n",
    "        while stack:\n",
    "            p = stack.pop()\n",
    "            if p.right:\n",
    "                stack.append(p.right)\n",
    "            if p.left:\n",
    "                if p.left.left is None and p.left.right is None:\n",
    "                    total += p.left.val\n",
    "                else:\n",
    "                    stack.append(p.left)\n",
    "        return total"
   ]
  },
  {
   "cell_type": "markdown",
   "metadata": {},
   "source": [
    "# 29. Kth Smallest Element in a BST (LC 230)\n",
    "Given a binary search tree, write a function kthSmallest to find the kth smallest element in it.\n",
    "\n",
    "Note: \n",
    "You may assume k is always valid, 1 ≤ k ≤ BST's total elements."
   ]
  },
  {
   "cell_type": "markdown",
   "metadata": {},
   "source": [
    "### Think:\n",
    "We can do it iteratively. The idea is that we first find the minimum value node, which resides in the leftmost position, by traversing to left tree and push node to stack along the way. Then pop from stack and check if it is k-th node, if yes, just return that node value, otherwise try to push all left nodes in current node's right tree."
   ]
  },
  {
   "cell_type": "code",
   "execution_count": 1,
   "metadata": {
    "collapsed": true
   },
   "outputs": [],
   "source": [
    "class Solution:\n",
    "    def kthSmallest(self, root, k):\n",
    "        \"\"\"\n",
    "        :type root: TreeNode\n",
    "        :type k: int\n",
    "        :rtype: int\n",
    "        \"\"\"\n",
    "        stack = []\n",
    "        curr = root\n",
    "        while curr:\n",
    "            stack.append(curr)\n",
    "            curr = curr.left\n",
    "        \n",
    "        cnt = 0\n",
    "        while cnt != k:\n",
    "            cnt += 1\n",
    "            p = stack.pop()\n",
    "            if cnt == k:\n",
    "                return p.val\n",
    "            p = p.right\n",
    "            while p:\n",
    "                stack.append(p)\n",
    "                p = p.left"
   ]
  },
  {
   "cell_type": "markdown",
   "metadata": {},
   "source": [
    "# 30. Redundant Connection (LC 684)\n",
    "In this problem, a tree is an undirected graph that is connected and has no cycles.\n",
    "\n",
    "The given input is a graph that started as a tree with N nodes (with distinct values 1, 2, ..., N), with one additional edge added. The added edge has two different vertices chosen from 1 to N, and was not an edge that already existed.\n",
    "\n",
    "The resulting graph is given as a 2D-array of edges. Each element of edges is a pair [u, v] with u < v, that represents an undirected edge connecting nodes u and v.\n",
    "\n",
    "Return an edge that can be removed so that the resulting graph is a tree of N nodes. If there are multiple answers, return the answer that occurs last in the given 2D-array. The answer edge [u, v] should be in the same format, with u < v."
   ]
  },
  {
   "cell_type": "markdown",
   "metadata": {},
   "source": [
    "### Think:\n",
    "This problem is Union-Find in disguise. In a tree, a node is added to the tree at a time. So we find two nodes in the same set, then this edge is redundent."
   ]
  },
  {
   "cell_type": "code",
   "execution_count": 2,
   "metadata": {
    "collapsed": true
   },
   "outputs": [],
   "source": [
    "class Solution:\n",
    "    def parent(self, u, marks):\n",
    "        while u != marks[u]:\n",
    "            u = marks[u]\n",
    "        return u\n",
    "    \n",
    "    def union(self, u, v, marks):\n",
    "        u_p, v_p = self.parent(u, marks), self.parent(v, marks)\n",
    "        if u_p == v_p:\n",
    "            return False\n",
    "        marks[u_p] = v_p\n",
    "        return True\n",
    "    \n",
    "    def findRedundantConnection(self, edges):\n",
    "        \"\"\"\n",
    "        :type edges: List[List[int]]\n",
    "        :rtype: List[int]\n",
    "        \"\"\"\n",
    "        marks = [i for i in range(len(edges))]\n",
    "        \n",
    "        for u, v in edges:\n",
    "            u, v = u - 1, v - 1\n",
    "            if not self.union(u, v, marks):\n",
    "                return [u + 1, v + 1]"
   ]
  },
  {
   "cell_type": "markdown",
   "metadata": {},
   "source": [
    "# 31. Convert Sorted Array to Binary Search Tree (LC 108)\n",
    "Given an array where elements are sorted in ascending order, convert it to a height balanced BST.\n",
    "\n",
    "For this problem, a height-balanced binary tree is defined as a binary tree in which the depth of the two subtrees of every node never differ by more than 1."
   ]
  },
  {
   "cell_type": "markdown",
   "metadata": {},
   "source": [
    "### Think:\n",
    "Since we need to find height balanced tree, we need to use middle point as root of the tree, and do this recursively."
   ]
  },
  {
   "cell_type": "code",
   "execution_count": 3,
   "metadata": {
    "collapsed": true
   },
   "outputs": [],
   "source": [
    "class Solution:\n",
    "    def dfs(self, nums, start, end):\n",
    "        if end < start:\n",
    "            return\n",
    "        if start == end:\n",
    "            return TreeNode(nums[start])\n",
    "        mid = (start + end) // 2\n",
    "        root = TreeNode(nums[mid])\n",
    "        root.left = self.dfs(nums, start, mid - 1)\n",
    "        root.right = self.dfs(nums, mid + 1, end)\n",
    "        \n",
    "        return root\n",
    "        \n",
    "    def sortedArrayToBST(self, nums):\n",
    "        \"\"\"\n",
    "        :type nums: List[int]\n",
    "        :rtype: TreeNode\n",
    "        \"\"\"\n",
    "        \n",
    "        return self.dfs(nums, 0, len(nums) - 1)"
   ]
  },
  {
   "cell_type": "markdown",
   "metadata": {},
   "source": [
    "# 32. Add One Row to Tree (LC 623)\n",
    "Given the root of a binary tree, then value v and depth d, you need to add a row of nodes with value v at the given depth d. The root node is at depth 1.\n",
    "\n",
    "The adding rule is: given a positive integer depth d, for each NOT null tree nodes N in depth d-1, create two tree nodes with value v as N's left subtree root and right subtree root. And N's original left subtree should be the left subtree of the new left subtree root, its original right subtree should be the right subtree of the new right subtree root. If depth d is 1 that means there is no depth d-1 at all, then create a tree node with value v as the new root of the whole original tree, and the original tree is the new root's left subtree."
   ]
  },
  {
   "cell_type": "markdown",
   "metadata": {},
   "source": [
    "### Think:\n",
    "We can do it recursively or iteratively.\n",
    "- Iteratively, we can level traverse to the depth, and add nodes below"
   ]
  },
  {
   "cell_type": "code",
   "execution_count": 5,
   "metadata": {
    "collapsed": true
   },
   "outputs": [],
   "source": [
    "# Recursively\n",
    "class Solution:\n",
    "    def dfs(self, node, v, level):\n",
    "        if node is None or level < 0:\n",
    "            return\n",
    "        if level == 0:\n",
    "            new_node = TreeNode(v)\n",
    "            new_node.left = node.left\n",
    "            node.left = new_node\n",
    "\n",
    "            new_node = TreeNode(v)\n",
    "            new_node.right = node.right\n",
    "            node.right = new_node\n",
    "            return\n",
    "        self.dfs(node.left, v, level - 1)\n",
    "        self.dfs(node.right, v, level - 1)\n",
    "            \n",
    "    def addOneRow(self, root, v, d):\n",
    "        \"\"\"\n",
    "        :type root: TreeNode\n",
    "        :type v: int\n",
    "        :type d: int\n",
    "        :rtype: TreeNode\n",
    "        \"\"\"\n",
    "        dummy = TreeNode(0)\n",
    "        dummy.left = root\n",
    "        self.dfs(dummy, v, d - 1)\n",
    "        return dummy.left"
   ]
  },
  {
   "cell_type": "markdown",
   "metadata": {},
   "source": [
    "# 33. Binary Tree Tilt (LC 563)\n",
    "Given a binary tree, return the tilt of the whole tree.\n",
    "\n",
    "The tilt of a tree node is defined as the absolute difference between the sum of all left subtree node values and the sum of all right subtree node values. Null node has tilt 0.\n",
    "\n",
    "The tilt of the whole tree is defined as the sum of all nodes' tilt."
   ]
  },
  {
   "cell_type": "markdown",
   "metadata": {},
   "source": [
    "### Think:\n",
    "Since tilt depends on child sum, we can actually return both tilt and value sum to avoid revisiting nodes."
   ]
  },
  {
   "cell_type": "code",
   "execution_count": 6,
   "metadata": {
    "collapsed": true
   },
   "outputs": [],
   "source": [
    "class Solution:\n",
    "    def dfs(self, node):\n",
    "        # return node_sum, node_tilt\n",
    "        if node is None:\n",
    "            return 0, 0\n",
    "        left_sum, left_tilt = self.dfs(node.left)\n",
    "        right_sum, right_tilt = self.dfs(node.right)\n",
    "        total_sum = left_sum + right_sum + node.val\n",
    "        total_tilt = left_tilt + right_tilt + abs(left_sum - right_sum)\n",
    "        \n",
    "        return total_sum, total_tilt\n",
    "        \n",
    "    def findTilt(self, root):\n",
    "        \"\"\"\n",
    "        :type root: TreeNode\n",
    "        :rtype: int\n",
    "        \"\"\"\n",
    "        _, total = self.dfs(root)\n",
    "        \n",
    "        return total"
   ]
  },
  {
   "cell_type": "markdown",
   "metadata": {},
   "source": [
    "# 34. House Robber III (LC 337)\n",
    "The thief has found himself a new place for his thievery again. There is only one entrance to this area, called the \"root.\" Besides the root, each house has one and only one parent house. After a tour, the smart thief realized that \"all houses in this place forms a binary tree\". It will automatically contact the police if two directly-linked houses were broken into on the same night.\n",
    "\n",
    "Determine the maximum amount of money the thief can rob tonight without alerting the police."
   ]
  },
  {
   "cell_type": "markdown",
   "metadata": {},
   "source": [
    "### Think:\n",
    "Below plain DFS and DFS memorization will trigger TLE. We need to further optimize the code. "
   ]
  },
  {
   "cell_type": "code",
   "execution_count": 7,
   "metadata": {
    "collapsed": true
   },
   "outputs": [],
   "source": [
    "# TLE\n",
    "class Solution:\n",
    "    def dfs(self, root, d):\n",
    "        if root is None:\n",
    "            return 0\n",
    "        if root in d:\n",
    "            return d[root]\n",
    "        now = root.val\n",
    "        later = 0\n",
    "        if root.left:\n",
    "            later += self.rob(root.left)\n",
    "            now += self.rob(root.left.left) + self.rob(root.left.right)\n",
    "        if root.right:\n",
    "            later += self.rob(root.right)\n",
    "            now += self.rob(root.right.left) + self.rob(root.right.right)\n",
    "        d[root] = max(now, later)\n",
    "        \n",
    "        return max(now, later)\n",
    "        \n",
    "    def rob(self, root):\n",
    "        \"\"\"\n",
    "        :type root: TreeNode\n",
    "        :rtype: int\n",
    "        \"\"\"\n",
    "        d = {}\n",
    "        return self.dfs(root, d)"
   ]
  },
  {
   "cell_type": "code",
   "execution_count": 10,
   "metadata": {
    "collapsed": true
   },
   "outputs": [],
   "source": [
    "class Solution:\n",
    "    def dfs(self, node, d):\n",
    "        # return rob now and later\n",
    "        if node is None:\n",
    "            return 0, 0\n",
    "        if node in d:\n",
    "            return d[node]\n",
    "        \n",
    "        left = self.dfs(node.left, d)\n",
    "        right = self.dfs(node.right, d)\n",
    "        now = node.val + left[1] + right[1]\n",
    "        later = max(left) + max(right)\n",
    "        \n",
    "        return now, later\n",
    "        \n",
    "    def rob(self, root):\n",
    "        \"\"\"\n",
    "        :type root: TreeNode\n",
    "        :rtype: int\n",
    "        \"\"\"\n",
    "        d = {}\n",
    "        res = self.dfs(root, d)\n",
    "        return max(res)"
   ]
  },
  {
   "cell_type": "markdown",
   "metadata": {},
   "source": [
    "# 35. Diameter of Binary Tree\n",
    "Given a binary tree, you need to compute the length of the diameter of the tree. The diameter of a binary tree is the length of the longest path between any two nodes in a tree. This path may or may not pass through the root."
   ]
  },
  {
   "cell_type": "markdown",
   "metadata": {},
   "source": [
    "### Think:\n",
    "Similar to path sum problem. We create a helper function to return max_length of paths going through root node, and use another global variable to store max_length when paths don't go through root."
   ]
  },
  {
   "cell_type": "code",
   "execution_count": 11,
   "metadata": {
    "collapsed": true
   },
   "outputs": [],
   "source": [
    "class Solution:\n",
    "    def dfs(self, node):\n",
    "        if node is None:\n",
    "            return 0\n",
    "        left_cnt, right_cnt = self.dfs(node.left), self.dfs(node.right)\n",
    "        self.max_points = max(self.max_points, left_cnt + right_cnt + 1)\n",
    "        return 1 + max(left_cnt, right_cnt)\n",
    "        \n",
    "        \n",
    "    def diameterOfBinaryTree(self, root):\n",
    "        \"\"\"\n",
    "        :type root: TreeNode\n",
    "        :rtype: int\n",
    "        \"\"\"\n",
    "        self.max_points = 1\n",
    "        self.dfs(root)\n",
    "        \n",
    "        return self.max_points - 1"
   ]
  },
  {
   "cell_type": "markdown",
   "metadata": {},
   "source": [
    "# 36. Binary Tree Level Order Traversal (LC 102)\n",
    "Given a binary tree, return the level order traversal of its nodes' values. (ie, from left to right, level by level)."
   ]
  },
  {
   "cell_type": "markdown",
   "metadata": {},
   "source": [
    "### Think:\n",
    "Typical question for level traversal."
   ]
  },
  {
   "cell_type": "code",
   "execution_count": 12,
   "metadata": {
    "collapsed": true
   },
   "outputs": [],
   "source": [
    "class Solution:\n",
    "    def levelOrder(self, root):\n",
    "        \"\"\"\n",
    "        :type root: TreeNode\n",
    "        :rtype: List[List[int]]\n",
    "        \"\"\"\n",
    "        res = []\n",
    "        if root is None:\n",
    "            return res\n",
    "        curr_level = [root]\n",
    "        while curr_level:\n",
    "            res.append([p.val for p in curr_level])\n",
    "            curr_level = [q for p in curr_level \n",
    "                              for q in [p.left, p.right] \n",
    "                                  if q]\n",
    "        return res"
   ]
  },
  {
   "cell_type": "markdown",
   "metadata": {},
   "source": [
    "# 37. Binary Tree Iterator (LC 173)\n",
    "Implement an iterator over a binary search tree (BST). Your iterator will be initialized with the root node of a BST.\n",
    "\n",
    "Calling next() will return the next smallest number in the BST.\n",
    "\n",
    "Note: next() and hasNext() should run in average O(1) time and uses O(h) memory, where h is the height of the tree."
   ]
  },
  {
   "cell_type": "markdown",
   "metadata": {},
   "source": [
    "### Think:\n",
    "Similar idea as k-th smallest number in BST (LC 230)"
   ]
  },
  {
   "cell_type": "code",
   "execution_count": 4,
   "metadata": {
    "collapsed": true
   },
   "outputs": [],
   "source": [
    "class BSTIterator(object):\n",
    "    def __init__(self, root):\n",
    "        \"\"\"\n",
    "        :type root: TreeNode\n",
    "        \"\"\"\n",
    "        self.stack = []\n",
    "        curr = root\n",
    "        while curr:\n",
    "            self.stack.append(curr)\n",
    "            curr = curr.left\n",
    "        \n",
    "    def hasNext(self):\n",
    "        \"\"\"\n",
    "        :rtype: bool\n",
    "        \"\"\"\n",
    "        return len(self.stack) > 0\n",
    "        \n",
    "\n",
    "    def next(self):\n",
    "        \"\"\"\n",
    "        :rtype: int\n",
    "        \"\"\"\n",
    "        node = self.stack.pop()\n",
    "        new_node = node.right\n",
    "        while new_node:\n",
    "            self.stack.append(new_node)\n",
    "            new_node = new_node.left\n",
    "        \n",
    "        return node.val"
   ]
  },
  {
   "cell_type": "markdown",
   "metadata": {},
   "source": [
    "# 38. Binary Tree Postorder Traversal (LC 145)\n",
    "Given a binary tree, return the postorder traversal of its nodes' values."
   ]
  },
  {
   "cell_type": "markdown",
   "metadata": {},
   "source": [
    "### Think:\n",
    "Postorder is LRN. There are two ways to do postorder traversal,\n",
    "- We do preorder traversal with NRL, and reverse the results before return,\n",
    "- Just postorder traverse iteratively."
   ]
  },
  {
   "cell_type": "code",
   "execution_count": 13,
   "metadata": {
    "collapsed": true
   },
   "outputs": [],
   "source": [
    "class Solution(object):\n",
    "    def postorderTraversal(self, root):\n",
    "        \"\"\"\n",
    "        :type root: TreeNode\n",
    "        :rtype: List[int]\n",
    "        \"\"\"\n",
    "        res = []\n",
    "        if root is None:\n",
    "            return res\n",
    "        stack = [root]\n",
    "        while stack:\n",
    "            p = stack.pop()\n",
    "            res.append(p.val)\n",
    "            if p.left:\n",
    "                stack.append(p.left)\n",
    "            if p.right:\n",
    "                stack.append(p.right)\n",
    "        return res[::-1]"
   ]
  },
  {
   "cell_type": "code",
   "execution_count": 3,
   "metadata": {
    "collapsed": true
   },
   "outputs": [],
   "source": [
    "# Normal Post order traversal\n",
    "class Solution(object):\n",
    "    def postorderTraversal(self, root):\n",
    "        \"\"\"\n",
    "        :type root: TreeNode\n",
    "        :rtype: List[int]\n",
    "        \"\"\"\n",
    "        node, last, stack = root, None, []\n",
    "        res = []\n",
    "        \n",
    "        while stack or node:\n",
    "            if node:\n",
    "                stack.append(node)\n",
    "                node = node.left\n",
    "            else:\n",
    "                q = stack[-1]\n",
    "                if q.right and q.right != last:\n",
    "                    node = q.right\n",
    "                else:\n",
    "                    q = stack.pop()\n",
    "                    res.append(q.val)\n",
    "                    last = q\n",
    "        return res"
   ]
  },
  {
   "cell_type": "markdown",
   "metadata": {
    "collapsed": true
   },
   "source": [
    "# 39. Binary Tree Right Side View (LC 199)\n",
    "Given a binary tree, imagine yourself standing on the right side of it, return the values of the nodes you can see ordered from top to bottom."
   ]
  },
  {
   "cell_type": "markdown",
   "metadata": {
    "collapsed": true
   },
   "source": [
    "### Think:\n",
    "Level Traversal"
   ]
  },
  {
   "cell_type": "code",
   "execution_count": 1,
   "metadata": {
    "collapsed": true
   },
   "outputs": [],
   "source": [
    "class Solution(object):\n",
    "    def rightSideView(self, root):\n",
    "        \"\"\"\n",
    "        :type root: TreeNode\n",
    "        :rtype: List[int]\n",
    "        \"\"\"\n",
    "        res = []\n",
    "        if root is None:\n",
    "            return res\n",
    "        curr_level = [root]\n",
    "        while curr_level:\n",
    "            res.append(curr_level[-1].val)\n",
    "            curr_level = [q for p in curr_level for q in [p.left, p.right] if q]\n",
    "        \n",
    "        return res"
   ]
  },
  {
   "cell_type": "markdown",
   "metadata": {
    "collapsed": true
   },
   "source": [
    "# 40. Binary Tree Level Order Traversal II (LC 107)\n",
    "Given a binary tree, return the bottom-up level order traversal of its nodes' values. (ie, from left to right, level by level from leaf to root)."
   ]
  },
  {
   "cell_type": "markdown",
   "metadata": {
    "collapsed": true
   },
   "source": [
    "### Think:\n",
    "Same as normal level order traversal, just need to reverse return value."
   ]
  },
  {
   "cell_type": "code",
   "execution_count": 2,
   "metadata": {
    "collapsed": true
   },
   "outputs": [],
   "source": [
    "class Solution(object):\n",
    "    def levelOrderBottom(self, root):\n",
    "        \"\"\"\n",
    "        :type root: TreeNode\n",
    "        :rtype: List[List[int]]\n",
    "        \"\"\"\n",
    "        res = []\n",
    "        if root is None:\n",
    "            return res\n",
    "        curr_level = [root]\n",
    "        \n",
    "        while curr_level:\n",
    "            res.append([p.val for p in curr_level])\n",
    "            curr_level = [q for p in curr_level for q in [p.left, p.right] if q]\n",
    "        return res[::-1]"
   ]
  },
  {
   "cell_type": "markdown",
   "metadata": {
    "collapsed": true
   },
   "source": [
    "# 41. Serialize and Deserialize BST (LC 449)\n",
    "Serialization is the process of converting a data structure or object into a sequence of bits so that it can be stored in a file or memory buffer, or transmitted across a network connection link to be reconstructed later in the same or another computer environment.\n",
    "\n",
    "Design an algorithm to serialize and deserialize a binary search tree. There is no restriction on how your serialization/deserialization algorithm should work. You just need to ensure that a binary search tree can be serialized to a string and this string can be deserialized to the original tree structure.\n",
    "\n",
    "The encoded string should be as compact as possible.\n",
    "\n",
    "Note: Do not use class member/global/static variables to store states. Your serialize and deserialize algorithms should be stateless."
   ]
  },
  {
   "cell_type": "markdown",
   "metadata": {
    "collapsed": true
   },
   "source": [
    "### Think:\n",
    "Serializing BST is different from Binary Tree because BST has order. So Preorder traversing and serializing will uniquely determine a BST."
   ]
  },
  {
   "cell_type": "code",
   "execution_count": 17,
   "metadata": {
    "collapsed": true
   },
   "outputs": [],
   "source": [
    "class Codec:\n",
    "    sep = ','\n",
    "    \n",
    "    def dfs(self, node):\n",
    "        if node is None:\n",
    "            return ''\n",
    "        left_str = self.dfs(node.left)\n",
    "        right_str = self.dfs(node.right)\n",
    "        \n",
    "        res = [x for x in [str(node.val), left_str, right_str] if x]\n",
    "        return self.sep.join(res)\n",
    "            \n",
    "    def serialize(self, root):\n",
    "        \"\"\"Encodes a tree to a single string.\n",
    "        \n",
    "        :type root: TreeNode\n",
    "        :rtype: str\n",
    "        \"\"\"\n",
    "        # Do it preorder, no need to cache Null node.\n",
    "        return self.dfs(root)\n",
    "    \n",
    "    def deserialize_helper(self, vals):\n",
    "        if vals:\n",
    "            root_val = vals.pop(0)\n",
    "            root = TreeNode(root_val)\n",
    "            idx = 0\n",
    "            while idx < len(vals) and vals[idx] < root_val:\n",
    "                idx += 1    \n",
    "            root.left = self.deserialize_helper(vals[:idx])\n",
    "            root.right = self.deserialize_helper(vals[idx:])\n",
    "            return root\n",
    "        return None\n",
    "        \n",
    "    \n",
    "    def deserialize(self, data):\n",
    "        \"\"\"Decodes your encoded data to tree.\n",
    "        \n",
    "        :type data: str\n",
    "        :rtype: TreeNode\n",
    "        \"\"\"\n",
    "        if data:\n",
    "            vals = data.split(self.sep)\n",
    "            vals = [int(v) for v in vals]\n",
    "            return self.deserialize_helper(vals)\n",
    "        else:\n",
    "            return"
   ]
  },
  {
   "cell_type": "markdown",
   "metadata": {
    "collapsed": true
   },
   "source": [
    "# 42. Unique Binary Search Trees (LC 96)\n",
    "Given n, how many structurally unique BST's (binary search trees) that store values 1 ... n?"
   ]
  },
  {
   "cell_type": "markdown",
   "metadata": {
    "collapsed": true
   },
   "source": [
    "### Think:\n",
    "We can use recursion/dp to get the counts. Say we know there are F(n) unique BST for n nodes, then F(m) = F(0) * F(m-1) + F(1) * F(m-2) + ... + F(m-1) * F(0).<br>\n",
    "If we just need to return number of trees, then dp would be better, but if we need to return all trees, then recursion is a better solution."
   ]
  },
  {
   "cell_type": "code",
   "execution_count": 5,
   "metadata": {
    "collapsed": true
   },
   "outputs": [],
   "source": [
    "class Solution(object):\n",
    "    def numTrees(self, n):\n",
    "        \"\"\"\n",
    "        :type n: int\n",
    "        :rtype: int\n",
    "        \"\"\"\n",
    "        dp = [0 for _ in range(n + 1)]\n",
    "        dp[0] = 1\n",
    "        for i in range(1, n + 1):\n",
    "            cnt = 0\n",
    "            for j in range(i):\n",
    "                cnt += dp[j] * dp[i - 1 - j]\n",
    "            dp[i] = cnt\n",
    "        return dp[-1]"
   ]
  },
  {
   "cell_type": "markdown",
   "metadata": {
    "collapsed": true
   },
   "source": [
    "# 43. Binary Tree Paths (LC 257)\n",
    "Given a binary tree, return all root-to-leaf paths."
   ]
  },
  {
   "cell_type": "markdown",
   "metadata": {},
   "source": [
    "### Think:\n",
    "Recursion is natural."
   ]
  },
  {
   "cell_type": "code",
   "execution_count": 6,
   "metadata": {
    "collapsed": true
   },
   "outputs": [],
   "source": [
    "class Solution(object):\n",
    "    def dfs(self, node):\n",
    "        if node is None:\n",
    "            return []\n",
    "        if node.left is None and node.right is None:\n",
    "            return [str(node.val)]\n",
    "        left_strs = self.dfs(node.left)\n",
    "        right_strs = self.dfs(node.right)\n",
    "        res = [''.join([str(node.val), '->', x]) for x in left_strs + right_strs]\n",
    "        \n",
    "        return res\n",
    "        \n",
    "    def binaryTreePaths(self, root):\n",
    "        \"\"\"\n",
    "        :type root: TreeNode\n",
    "        :rtype: List[str]\n",
    "        \"\"\"\n",
    "        return self.dfs(root)"
   ]
  },
  {
   "cell_type": "markdown",
   "metadata": {},
   "source": [
    "# 44. All Nodes Distance K in Binary Tree (LC 863)\n",
    "We are given a binary tree (with root node root), a target node, and an integer value K.\n",
    "\n",
    "Return a list of the values of all nodes that have a distance K from the target node.  The answer can be returned in any order."
   ]
  },
  {
   "cell_type": "markdown",
   "metadata": {},
   "source": [
    "### Think:\n"
   ]
  },
  {
   "cell_type": "code",
   "execution_count": null,
   "metadata": {
    "collapsed": true
   },
   "outputs": [],
   "source": []
  },
  {
   "cell_type": "markdown",
   "metadata": {},
   "source": [
    "# 45. Second Minimum  Node In a Binary Tree (LC 671)\n",
    "Given a non-empty special binary tree consisting of nodes with the non-negative value, where each node in this tree has exactly two or zero sub-node. If the node has two sub-nodes, then this node's value is the smaller value among its two sub-nodes.\n",
    "\n",
    "Given such a binary tree, you need to output the second minimum value in the set made of all the nodes' value in the whole tree.\n",
    "\n",
    "If no such second minimum value exists, output -1 instead."
   ]
  },
  {
   "cell_type": "markdown",
   "metadata": {},
   "source": [
    "### Think:\n",
    "Since root value is the smaller among its two sub-nodes, we can be sure that if we found minimum value different from root value, then it is the second minimum."
   ]
  },
  {
   "cell_type": "code",
   "execution_count": 7,
   "metadata": {
    "collapsed": true
   },
   "outputs": [],
   "source": [
    "    def dfs(self, node):\n",
    "        if node is None:\n",
    "            return -1\n",
    "        if node.val != self.check:\n",
    "            return node.val\n",
    "        left_val = self.dfs(node.left)\n",
    "        right_val = self.dfs(node.right)\n",
    "        if left_val < 0:\n",
    "            return right_val\n",
    "        elif right_val < 0:\n",
    "            return left_val\n",
    "        return min(left_val, right_val)\n",
    "        \n",
    "    def findSecondMinimumValue(self, root):\n",
    "        \"\"\"\n",
    "        :type root: TreeNode\n",
    "        :rtype: int\n",
    "        \"\"\"\n",
    "        if root is None:\n",
    "            return -1\n",
    "        self.check = root.val\n",
    "        res = self.dfs(root)\n",
    "        return res"
   ]
  },
  {
   "cell_type": "markdown",
   "metadata": {},
   "source": [
    "# 46. Lowest Common Ancestor of a Binary Search Tree (LC 235)\n",
    "Given a binary search tree (BST), find the lowest common ancestor (LCA) of two given nodes in the BST.\n",
    "\n",
    "According to the definition of LCA on Wikipedia: “The lowest common ancestor is defined between two nodes p and q as the lowest node in T that has both p and q as descendants (where we allow a node to be a descendant of itself).”\n",
    "\n",
    "Given binary search tree:  root = [6,2,8,0,4,7,9,null,null,3,5]"
   ]
  },
  {
   "cell_type": "markdown",
   "metadata": {},
   "source": [
    "### Think:\n",
    "We can reuse LCA code for vanilal binary tree, but since it is a BST, we could actually do better."
   ]
  },
  {
   "cell_type": "code",
   "execution_count": 26,
   "metadata": {
    "collapsed": true
   },
   "outputs": [],
   "source": [
    "class Solution(object):\n",
    "    def dfs(self, node, p, q):\n",
    "        if node is None or node is p or node is q:\n",
    "            return node\n",
    "        left_res = self.dfs(node.left, p, q)\n",
    "        right_res = self.dfs(node.right, p, q)\n",
    "        if left_res is None:\n",
    "            return right_res\n",
    "        if right_res is None:\n",
    "            return left_res\n",
    "        return node\n",
    "        \n",
    "    def lowestCommonAncestor(self, root, p, q):\n",
    "        \"\"\"\n",
    "        :type root: TreeNode\n",
    "        :type p: TreeNode\n",
    "        :type q: TreeNode\n",
    "        :rtype: TreeNode\n",
    "        \"\"\"\n",
    "        \n",
    "        return self.dfs(root, p, q)"
   ]
  },
  {
   "cell_type": "code",
   "execution_count": 25,
   "metadata": {
    "collapsed": true
   },
   "outputs": [],
   "source": [
    "class Solution:\n",
    "    def lowestCommonAncestor(self, root, p, q):\n",
    "        \"\"\"\n",
    "        :type root: TreeNode\n",
    "        :type p: TreeNode\n",
    "        :type q: TreeNode\n",
    "        :rtype: TreeNode\n",
    "        \"\"\"\n",
    "        small = min(p.val, q.val)\n",
    "        large = max(p.val, q.val)\n",
    "        \n",
    "        curr = root\n",
    "        while curr:\n",
    "            if small <= curr.val <= large:\n",
    "                return curr\n",
    "            if curr.val < small:\n",
    "                curr = curr.right\n",
    "            else:\n",
    "                curr = curr.left"
   ]
  },
  {
   "cell_type": "markdown",
   "metadata": {},
   "source": [
    "# 47. Symmetric Tree (LC 101)\n",
    "Given a binary tree, check whether it is a mirror of itself (ie, symmetric around its center).\n",
    "\n",
    "For example, this binary tree [1,2,2,3,4,4,3] is symmetric:"
   ]
  },
  {
   "cell_type": "code",
   "execution_count": 9,
   "metadata": {
    "collapsed": true
   },
   "outputs": [],
   "source": [
    "class Solution(object):\n",
    "    def dfs(self, p, q):\n",
    "        if p is None and q is None:\n",
    "            return True\n",
    "        if p is None or q is None:\n",
    "            return False\n",
    "        \n",
    "        return (p.val == q.val \n",
    "                and self.dfs(p.left, q.right) \n",
    "                and self.dfs(p.right, q.left))\n",
    "        \n",
    "    def isSymmetric(self, root):\n",
    "        \"\"\"\n",
    "        :type root: TreeNode\n",
    "        :rtype: bool\n",
    "        \"\"\"\n",
    "        if root is None:\n",
    "            return True\n",
    "        return self.dfs(root.left, root.right)"
   ]
  },
  {
   "cell_type": "markdown",
   "metadata": {},
   "source": [
    "# 48. Find Duplicate Subtrees (LC 652)\n",
    "Given a binary tree, return all duplicate subtrees. For each kind of duplicate subtrees, you only need to return the root node of any one of them.\n",
    "\n",
    "Two trees are duplicate if they have the same structure with same node values."
   ]
  },
  {
   "cell_type": "markdown",
   "metadata": {},
   "source": [
    "### Think:\n",
    "This is a bit like two sum in a binary tree in a sense that we actually need two recursion to do this. If we don't want to use recursion, we can actually cache all serialized subtree values. In serialization, we also need to include Null node as otherwise we cannot uniquely determine a binary tree."
   ]
  },
  {
   "cell_type": "code",
   "execution_count": 10,
   "metadata": {
    "collapsed": true
   },
   "outputs": [],
   "source": [
    "class Solution(object):\n",
    "    def serialize(self, node):\n",
    "        if node is None:\n",
    "            return '#'\n",
    "        res = ','.join([str(node.val), \n",
    "                        self.serialize(node.left), \n",
    "                        self.serialize(node.right)])\n",
    "        self.d[res].add(node)\n",
    "        \n",
    "        return res\n",
    "        \n",
    "    def findDuplicateSubtrees(self, root):\n",
    "        \"\"\"\n",
    "        :type root: TreeNode\n",
    "        :rtype: List[TreeNode]\n",
    "        \"\"\"\n",
    "        \n",
    "        self.d = collections.defaultdict(set)\n",
    "        self.serialize(root)\n",
    "        res = [list(v)[0] for k, v in self.d.items() if len(v) > 1]\n",
    "        return res"
   ]
  },
  {
   "cell_type": "markdown",
   "metadata": {},
   "source": [
    "# 49. Path Sum III (LC 437)\n",
    "You are given a binary tree in which each node contains an integer value.\n",
    "\n",
    "Find the number of paths that sum to a given value.\n",
    "\n",
    "The path does not need to start or end at the root or a leaf, but it must go downwards (traveling only from parent nodes to child nodes).\n",
    "\n",
    "The tree has no more than 1,000 nodes and the values are in the range -1,000,000 to 1,000,000."
   ]
  },
  {
   "cell_type": "markdown",
   "metadata": {},
   "source": [
    "### Think:\n",
    "We can use a dictionary to cache total sum from root to now."
   ]
  },
  {
   "cell_type": "code",
   "execution_count": 18,
   "metadata": {
    "collapsed": true
   },
   "outputs": [],
   "source": [
    "class Solution(object):\n",
    "    def dfs(self, node, curr_sum, sum):\n",
    "        if node is None:\n",
    "            return\n",
    "        val = node.val + curr_sum\n",
    "        if val - sum in self.d:\n",
    "            self.cnt += self.d[val - sum]\n",
    "        \n",
    "        self.d[val] += 1\n",
    "        \n",
    "        self.dfs(node.left, val, sum)\n",
    "        self.dfs(node.right, val, sum)\n",
    "        self.d[val] -= 1 # Recover to previous state, this is very important\n",
    "        \n",
    "    def pathSum(self, root, sum):\n",
    "        \"\"\"\n",
    "        :type root: TreeNode\n",
    "        :type sum: int\n",
    "        :rtype: int\n",
    "        \"\"\"\n",
    "        self.d = collections.defaultdict(int)\n",
    "        self.d[0] = 1\n",
    "        self.cnt = 0\n",
    "        self.dfs(root, 0, sum)\n",
    "        \n",
    "        return self.cnt"
   ]
  },
  {
   "cell_type": "markdown",
   "metadata": {},
   "source": [
    "# 50. Subtree of Another Tree (LC 572)\n",
    "Given two non-empty binary trees s and t, check whether tree t has exactly the same structure and node values with a subtree of s. A subtree of s is a tree consists of a node in s and all of this node's descendants. The tree s could also be considered as a subtree of itself."
   ]
  },
  {
   "cell_type": "markdown",
   "metadata": {},
   "source": [
    "### Think:\n",
    "We can reuse the code of determining same tree to check if any of s's node would be the same tree as t."
   ]
  },
  {
   "cell_type": "code",
   "execution_count": 11,
   "metadata": {
    "collapsed": true
   },
   "outputs": [],
   "source": [
    "class Solution(object):\n",
    "    def sameTree(self, p, q):\n",
    "        if p is None and q is None:\n",
    "            return True\n",
    "        if p is None or q is None:\n",
    "            return False\n",
    "        return (p.val == q.val\n",
    "               and self.sameTree(p.left, q.left)\n",
    "               and self.sameTree(p.right, q.right))\n",
    "    \n",
    "    def isSubtree(self, s, t):\n",
    "        \"\"\"\n",
    "        :type s: TreeNode\n",
    "        :type t: TreeNode\n",
    "        :rtype: bool\n",
    "        \"\"\"\n",
    "        if self.sameTree(s, t):\n",
    "            return True\n",
    "        if s:\n",
    "            return (self.isSubtree(s.left, t) \n",
    "                or self.isSubtree(s.right, t))\n",
    "        return False"
   ]
  },
  {
   "cell_type": "markdown",
   "metadata": {},
   "source": [
    "# 51. Sum Root to Leaf Numbers (LC 129)\n",
    "Given a binary tree containing digits from 0-9 only, each root-to-leaf path could represent a number.\n",
    "\n",
    "An example is the root-to-leaf path 1->2->3 which represents the number 123.\n",
    "\n",
    "Find the total sum of all root-to-leaf numbers."
   ]
  },
  {
   "cell_type": "code",
   "execution_count": 13,
   "metadata": {
    "collapsed": true
   },
   "outputs": [],
   "source": [
    "class Solution(object):\n",
    "    def dfs(self, node, curr_sum):\n",
    "        if node is None:\n",
    "            return 0\n",
    "        if node.left is None and node.right is None:\n",
    "            return curr_sum * 10 + node.val\n",
    "        return (self.dfs(node.left, curr_sum * 10 + node.val)\n",
    "               + self.dfs(node.right, curr_sum * 10 + node.val))\n",
    "        \n",
    "    def sumNumbers(self, root):\n",
    "        \"\"\"\n",
    "        :type root: TreeNode\n",
    "        :rtype: int\n",
    "        \"\"\"\n",
    "        return self.dfs(root, 0)"
   ]
  },
  {
   "cell_type": "markdown",
   "metadata": {},
   "source": [
    "# 52. Balanced Binary Tree (LC 110)\n",
    "Given a binary tree, determine if it is height-balanced.\n",
    "\n",
    "For this problem, a height-balanced binary tree is defined as:\n",
    "\n",
    "a binary tree in which the depth of the two subtrees of every node never differ by more than 1."
   ]
  },
  {
   "cell_type": "markdown",
   "metadata": {},
   "source": [
    "### Think:\n",
    "We should use signal as early as we find imbalance. This will be more efficient than if traversing the whole tree."
   ]
  },
  {
   "cell_type": "code",
   "execution_count": 19,
   "metadata": {
    "collapsed": true
   },
   "outputs": [],
   "source": [
    "class Solution(object):\n",
    "    def depth(self, node):\n",
    "        if node is None:\n",
    "            return 0\n",
    "        left_depth = self.depth(node.left)\n",
    "        if left_depth < 0:\n",
    "            return -1\n",
    "        \n",
    "        right_depth = self.depth(node.right)\n",
    "        if right_depth < 0:\n",
    "            return -1\n",
    "        \n",
    "        if abs(left_depth - right_depth) > 1:\n",
    "            return -1\n",
    "        \n",
    "        return max(left_depth, right_depth) + 1\n",
    "        \n",
    "    def isBalanced(self, root):\n",
    "        \"\"\"\n",
    "        :type root: TreeNode\n",
    "        :rtype: bool\n",
    "        \"\"\"\n",
    "        if root is None:\n",
    "            return True\n",
    "        return self.depth(root) > -1"
   ]
  },
  {
   "cell_type": "markdown",
   "metadata": {},
   "source": [
    "# 53. Flatten Binary Tree to Linked List (LC 114)\n",
    "Given a binary tree, flatten it to a linked list in-place.\n",
    "\n",
    "For example, given the following tree:"
   ]
  },
  {
   "cell_type": "markdown",
   "metadata": {},
   "source": [
    "### Think:\n",
    "Use Recursion"
   ]
  },
  {
   "cell_type": "code",
   "execution_count": 14,
   "metadata": {
    "collapsed": true
   },
   "outputs": [],
   "source": [
    "class Solution(object):\n",
    "    def flatten(self, root):\n",
    "        \"\"\"\n",
    "        :type root: TreeNode\n",
    "        :rtype: void Do not return anything, modify root in-place instead.\n",
    "        \"\"\"\n",
    "        if root is None:\n",
    "            return \n",
    "        self.flatten(root.left)\n",
    "        self.flatten(root.right)\n",
    "        left, right = root.left, root.right\n",
    "        root.left = None\n",
    "        root.right = left\n",
    "        curr = root\n",
    "        while curr.right:\n",
    "            curr = curr.right\n",
    "        curr.right = right"
   ]
  },
  {
   "cell_type": "markdown",
   "metadata": {},
   "source": [
    "# 54. Maximum Width of Binary Tree (LC 662)\n",
    "Given a binary tree, write a function to get the maximum width of the given tree. The width of a tree is the maximum width among all levels. The binary tree has the same structure as a full binary tree, but some nodes are null.\n",
    "\n",
    "The width of one level is defined as the length between the end-nodes (the leftmost and right most non-null nodes in the level, where the null nodes between the end-nodes are also counted into the length calculation."
   ]
  },
  {
   "cell_type": "markdown",
   "metadata": {},
   "source": [
    "### Think:\n",
    "Plain level traversal won't work because null node also counts. But if we mark nodes as their indices, then it could work."
   ]
  },
  {
   "cell_type": "code",
   "execution_count": 15,
   "metadata": {
    "collapsed": true
   },
   "outputs": [],
   "source": [
    "class Solution(object):\n",
    "    def widthOfBinaryTree(self, root):\n",
    "        \"\"\"\n",
    "        :type root: TreeNode\n",
    "        :rtype: int\n",
    "        \"\"\"\n",
    "        if root is None:\n",
    "            return 0\n",
    "        max_len = 0\n",
    "        curr_level = [[root, 1]]\n",
    "        while curr_level:\n",
    "            max_len = max(max_len, curr_level[-1][1] - curr_level[0][1] + 1)\n",
    "            next_level = []\n",
    "            for p, idx in curr_level:\n",
    "                if p.left:\n",
    "                    next_level.append([p.left, idx * 2])\n",
    "                if p.right:\n",
    "                    next_level.append([p.right, idx * 2 + 1])\n",
    "            curr_level = next_level\n",
    "        return max_len"
   ]
  },
  {
   "cell_type": "markdown",
   "metadata": {},
   "source": [
    "# 55. Binary Tree Zigzag Level Order Traversal (LC 103)\n",
    "Given a binary tree, return the zigzag level order traversal of its nodes' values. (ie, from left to right, then right to left for the next level and alternate between)."
   ]
  },
  {
   "cell_type": "markdown",
   "metadata": {},
   "source": [
    "### Think:\n",
    "Reverse results is easier."
   ]
  },
  {
   "cell_type": "code",
   "execution_count": 16,
   "metadata": {
    "collapsed": true
   },
   "outputs": [],
   "source": [
    "class Solution:\n",
    "    def zigzagLevelOrder(self, root):\n",
    "        \"\"\"\n",
    "        :type root: TreeNode\n",
    "        :rtype: List[List[int]]\n",
    "        \"\"\"\n",
    "        res = []\n",
    "        if root is None:\n",
    "            return res\n",
    "        curr_level = [root]\n",
    "        while curr_level:\n",
    "            res.append([p.val for p in curr_level])\n",
    "            curr_level = [q for p in curr_level for q in [p.left, p.right] if q]\n",
    "        \n",
    "        for i in range(1, len(res), 2):\n",
    "            res[i] = res[i][::-1]\n",
    "        return res"
   ]
  },
  {
   "cell_type": "markdown",
   "metadata": {},
   "source": [
    "# 55. Find Mode in Binary Search Tree (LC 501)\n",
    "Given a binary search tree (BST) with duplicates, find all the mode(s) (the most frequently occurred element) in the given BST.\n",
    "\n",
    "Assume a BST is defined as follows:\n",
    "\n",
    "The left subtree of a node contains only nodes with keys less than or equal to the node's key.\n",
    "The right subtree of a node contains only nodes with keys greater than or equal to the node's key.\n",
    "Both the left and right subtrees must also be binary search trees."
   ]
  },
  {
   "cell_type": "markdown",
   "metadata": {},
   "source": [
    "### Think:\n",
    "Use hashmap to save occurrence times would be easy, but the problem asks not to use extra memory except for recursion stack."
   ]
  },
  {
   "cell_type": "code",
   "execution_count": 20,
   "metadata": {
    "collapsed": true
   },
   "outputs": [],
   "source": [
    "class Solution(object):\n",
    "    def dfs(self, node):\n",
    "        if node is None:\n",
    "            return\n",
    "        self.d[node.val] += 1\n",
    "        self.dfs(node.left)\n",
    "        self.dfs(node.right)\n",
    "        \n",
    "    def findMode(self, root):\n",
    "        \"\"\"\n",
    "        :type root: TreeNode\n",
    "        :rtype: List[int]\n",
    "        \"\"\"\n",
    "        if root is None:\n",
    "            return []\n",
    "        self.d = collections.Counter()\n",
    "        self.dfs(root)\n",
    "        max_cnt = max(v for v in self.d.values())\n",
    "        return [k for k in self.d if self.d[k] == max_cnt ]"
   ]
  },
  {
   "cell_type": "markdown",
   "metadata": {},
   "source": [
    "# 56. Delete Node in a BST (LC 450)\n",
    "Given a root node reference of a BST and a key, delete the node with the given key in the BST. Return the root node reference (possibly updated) of the BST.\n",
    "\n",
    "Basically, the deletion can be divided into two stages:\n",
    "\n",
    "Search for a node to remove.\n",
    "If the node is found, delete the node."
   ]
  },
  {
   "cell_type": "markdown",
   "metadata": {
    "collapsed": true
   },
   "source": [
    "### Think:\n",
    "First find the node, and then delete."
   ]
  },
  {
   "cell_type": "code",
   "execution_count": 1,
   "metadata": {
    "collapsed": true
   },
   "outputs": [],
   "source": [
    "class Solution:\n",
    "    def search(self, node, key):\n",
    "        pre, curr = None, node\n",
    "        while curr and curr.val != key:\n",
    "            pre = curr\n",
    "            if curr.val < key:\n",
    "                curr = curr.right\n",
    "            else:\n",
    "                curr = curr.left\n",
    "        return pre, curr\n",
    "    \n",
    "    def delete_helper(self, node):\n",
    "        if node is None:\n",
    "            return\n",
    "        if node.left is None:\n",
    "            return node.right\n",
    "        elif node.right is None:\n",
    "            return node.left\n",
    "        pre, curr = None, node.right\n",
    "        while curr.left:\n",
    "            pre = curr\n",
    "            curr = curr.left\n",
    "        if node.right is not curr:\n",
    "            pre.left = curr.right\n",
    "            curr.right = node.right    \n",
    "        curr.left = node.left\n",
    "        return curr\n",
    "        \n",
    "    \n",
    "    def deleteNode(self, root, key):\n",
    "        \"\"\"\n",
    "        :type root: TreeNode\n",
    "        :type key: int\n",
    "        :rtype: TreeNode\n",
    "        \"\"\"\n",
    "        pre, curr = self.search(root, key)\n",
    "        \n",
    "        if pre is None:\n",
    "            return self.delete_helper(curr)\n",
    "        if pre.left is curr:\n",
    "            pre.left = self.delete_helper(curr)\n",
    "        else:\n",
    "            pre.right = self.delete_helper(curr)\n",
    "        return root"
   ]
  },
  {
   "cell_type": "markdown",
   "metadata": {},
   "source": [
    "# 57. Path Sum II (LC 113)\n",
    "Given a binary tree and a sum, find all root-to-leaf paths where each path's sum equals the given sum.\n",
    "\n",
    "Note: A leaf is a node with no children."
   ]
  },
  {
   "cell_type": "markdown",
   "metadata": {},
   "source": [
    "### Think:\n",
    "We can use recursion to remember path till now"
   ]
  },
  {
   "cell_type": "code",
   "execution_count": 21,
   "metadata": {
    "collapsed": true
   },
   "outputs": [],
   "source": [
    "class Solution:\n",
    "    def dfs(self, node, curr_sum, path, res):\n",
    "        if node is None:\n",
    "            return\n",
    "        \n",
    "        if node.left is None and node.right is None:\n",
    "            if curr_sum == node.val:\n",
    "                res.append(path + [node.val])\n",
    "            return\n",
    "        \n",
    "        path.append(node.val)\n",
    "        self.dfs(node.left, curr_sum - node.val, path, res)\n",
    "        self.dfs(node.right, curr_sum - node.val, path, res)\n",
    "        path.pop()\n",
    "\n",
    "    def pathSum(self, root, sum):\n",
    "        \"\"\"\n",
    "        :type root: TreeNode\n",
    "        :type sum: int\n",
    "        :rtype: List[List[int]]\n",
    "        \"\"\"\n",
    "        res = []\n",
    "        self.dfs(root, sum, [], res)\n",
    "        return res"
   ]
  },
  {
   "cell_type": "markdown",
   "metadata": {},
   "source": [
    "# 58. Path Sum (LC 112)\n",
    "Given a binary tree and a sum, determine if the tree has a root-to-leaf path such that adding up all the values along the path equals the given sum.\n",
    "\n",
    "Note: A leaf is a node with no children."
   ]
  },
  {
   "cell_type": "code",
   "execution_count": 22,
   "metadata": {
    "collapsed": true
   },
   "outputs": [],
   "source": [
    "class Solution:\n",
    "    def dfs(self, node, curr_sum):\n",
    "        if node is None:\n",
    "            return False\n",
    "        if node.left is None and node.right is None:\n",
    "            return node.val == curr_sum\n",
    "        return (self.dfs(node.left, curr_sum - node.val)\n",
    "                or self.dfs(node.right, curr_sum - node.val))\n",
    "                \n",
    "    def hasPathSum(self, root, sum):\n",
    "        \"\"\"\n",
    "        :type root: TreeNode\n",
    "        :type sum: int\n",
    "        :rtype: bool\n",
    "        \"\"\"\n",
    "        if root is None:\n",
    "            return False\n",
    "        return self.dfs(root, sum)"
   ]
  },
  {
   "cell_type": "markdown",
   "metadata": {},
   "source": [
    "# 59. Minimum Depth of Binary Tree (LC 111)\n",
    "Given a binary tree, find its minimum depth.\n",
    "\n",
    "The minimum depth is the number of nodes along the shortest path from the root node down to the nearest leaf node.\n",
    "\n",
    "Note: A leaf is a node with no children."
   ]
  },
  {
   "cell_type": "code",
   "execution_count": 23,
   "metadata": {
    "collapsed": true
   },
   "outputs": [],
   "source": [
    "class Solution:\n",
    "    def depth(self, node):\n",
    "        if node is None:\n",
    "            return float('inf')\n",
    "        if node.left is None and node.right is None:\n",
    "            return 1\n",
    "        return 1 + min(self.depth(node.left), self.depth(node.right))\n",
    "        \n",
    "    def minDepth(self, root):\n",
    "        \"\"\"\n",
    "        :type root: TreeNode\n",
    "        :rtype: int\n",
    "        \"\"\"\n",
    "        res = self.depth(root)\n",
    "        return res if res != float('inf') else 0"
   ]
  },
  {
   "cell_type": "markdown",
   "metadata": {},
   "source": [
    "# 60. Lowest Common Ancestor of a Binary Tree (LC 236)\n",
    "Given a binary tree, find the lowest common ancestor (LCA) of two given nodes in the tree.\n",
    "\n",
    "According to the definition of LCA on Wikipedia: “The lowest common ancestor is defined between two nodes p and q as the lowest node in T that has both p and q as descendants (where we allow a node to be a descendant of itself).”\n",
    "\n",
    "Given the following binary tree:  root = [3,5,1,6,2,0,8,null,null,7,4]\n"
   ]
  },
  {
   "cell_type": "code",
   "execution_count": 24,
   "metadata": {
    "collapsed": true
   },
   "outputs": [],
   "source": [
    "class Solution(object):\n",
    "    def dfs(self, node, p, q):\n",
    "        if node is None or node is p or node is q:\n",
    "            return node\n",
    "        left_res = self.dfs(node.left, p, q)\n",
    "        right_res = self.dfs(node.right, p, q)\n",
    "        if left_res is None:\n",
    "            return right_res\n",
    "        if right_res is None:\n",
    "            return left_res\n",
    "        return node\n",
    "        \n",
    "    def lowestCommonAncestor(self, root, p, q):\n",
    "        \"\"\"\n",
    "        :type root: TreeNode\n",
    "        :type p: TreeNode\n",
    "        :type q: TreeNode\n",
    "        :rtype: TreeNode\n",
    "        \"\"\"\n",
    "        \n",
    "        return self.dfs(root, p, q)"
   ]
  },
  {
   "cell_type": "markdown",
   "metadata": {},
   "source": [
    "# 61. Count Complete Tree Nodes (LC 222)\n",
    "Given a complete binary tree, count the number of nodes.\n",
    "\n",
    "Note:\n",
    "\n",
    "Definition of a complete binary tree from Wikipedia:\n",
    "In a complete binary tree every level, except possibly the last, is completely filled, and all nodes in the last level are as far left as possible. It can have between 1 and 2h nodes inclusive at the last level h."
   ]
  },
  {
   "cell_type": "markdown",
   "metadata": {
    "collapsed": true
   },
   "source": [
    "### Think:\n",
    "If a full tree has height of tree, then in total it has 2**h - 1 nodes. We can use the property that this is a complete tree, so its height is determined by its leftmost child node. Also if a left subtree height is larger than the right subtree, the it means the right subtree is full with height - 1."
   ]
  },
  {
   "cell_type": "code",
   "execution_count": 6,
   "metadata": {
    "collapsed": true
   },
   "outputs": [],
   "source": [
    "class Solution:\n",
    "    def depth(self, node):\n",
    "        if node is None:\n",
    "            return 0\n",
    "        return 1 + self.depth(node.left)\n",
    "    \n",
    "    def countNodes(self, root):\n",
    "        \"\"\"\n",
    "        :type root: TreeNode\n",
    "        :rtype: int\n",
    "        \"\"\"\n",
    "        if root is None:\n",
    "            return 0\n",
    "        node = root\n",
    "        cnt = 0\n",
    "        h = self.depth(root)\n",
    "        while node:\n",
    "            p, q = node.left, node.right\n",
    "            p_h = self.depth(p)\n",
    "            q_h = self.depth(q)\n",
    "            if p_h == q_h:\n",
    "                node = node.right\n",
    "                cnt += 2**(h-1)\n",
    "            else:\n",
    "                node = node.left\n",
    "                cnt += 2 **(h-2)\n",
    "            h -= 1\n",
    "        return cnt"
   ]
  },
  {
   "cell_type": "markdown",
   "metadata": {},
   "source": [
    "# 62. Binary Tree Maximum Path Sum (LC 124)\n",
    "Given a non-empty binary tree, find the maximum path sum.\n",
    "\n",
    "For this problem, a path is defined as any sequence of nodes from some starting node to any node in the tree along the parent-child connections. The path must contain at least one node and does not need to go through the root."
   ]
  },
  {
   "cell_type": "code",
   "execution_count": 28,
   "metadata": {
    "collapsed": true
   },
   "outputs": [],
   "source": [
    "class Solution:\n",
    "    def dfs(self, node):\n",
    "        if node is None:\n",
    "            return 0\n",
    "        left_sum, right_sum = self.dfs(node.left), self.dfs(node.right)\n",
    "        tmp_val = max(left_sum, 0) + max(right_sum, 0) + node.val\n",
    "        self.max_sum = max(self.max_sum, tmp_val)\n",
    "        \n",
    "        return max(left_sum, right_sum, 0) + node.val\n",
    "        \n",
    "        \n",
    "    def maxPathSum(self, root):\n",
    "        \"\"\"\n",
    "        :type root: TreeNode\n",
    "        :rtype: int\n",
    "        \"\"\"\n",
    "        self.max_sum = float('-inf')\n",
    "        self.dfs(root)\n",
    "        return self.max_sum"
   ]
  },
  {
   "cell_type": "markdown",
   "metadata": {},
   "source": [
    "# 63. Validate Binary Search Tree (LC 98)\n",
    "Given a binary tree, determine if it is a valid binary search tree (BST).\n",
    "\n",
    "Assume a BST is defined as follows:\n",
    "\n",
    "The left subtree of a node contains only nodes with keys less than the node's key.\n",
    "The right subtree of a node contains only nodes with keys greater than the node's key.\n",
    "Both the left and right subtrees must also be binary search trees."
   ]
  },
  {
   "cell_type": "markdown",
   "metadata": {},
   "source": [
    "### Think:\n",
    "Given BST definition, we need a range to determine if a node is a valid node in BST, i.e. lower bound and upper bound."
   ]
  },
  {
   "cell_type": "code",
   "execution_count": 29,
   "metadata": {
    "collapsed": true
   },
   "outputs": [],
   "source": [
    "class Solution:\n",
    "    def dfs(self, node, min_val, max_val):\n",
    "        if node is None:\n",
    "            return True\n",
    "        if node.val <= min_val or node.val >= max_val:\n",
    "            return False\n",
    "        return (self.dfs(node.left, min_val, node.val)\n",
    "                and self.dfs(node.right, node.val, max_val))\n",
    "        \n",
    "    def isValidBST(self, root):\n",
    "        \"\"\"\n",
    "        :type root: TreeNode\n",
    "        :rtype: bool\n",
    "        \"\"\"\n",
    "        return self.dfs(root, float('-inf'), float('inf'))"
   ]
  },
  {
   "cell_type": "markdown",
   "metadata": {},
   "source": [
    "# 64. Unique Binary Search Trees II (LC 95)\n",
    "Given an integer n, generate all structurally unique BST's (binary search trees) that store values 1 ... n."
   ]
  },
  {
   "cell_type": "markdown",
   "metadata": {},
   "source": [
    "### Think:\n",
    "Similar idea to Unique Binary Search Trees I, but instead of dp, we actually need to save all the subtrees in the sub problems."
   ]
  },
  {
   "cell_type": "code",
   "execution_count": 31,
   "metadata": {
    "collapsed": true
   },
   "outputs": [],
   "source": [
    "class Solution:\n",
    "    def dfs(self, start, end):\n",
    "        if end < start:\n",
    "            return [None]\n",
    "        if (start, end) in self.d:\n",
    "            return self.d[(start, end)]\n",
    "        res = []\n",
    "        n = end - start + 1\n",
    "        for i in range(n):\n",
    "            left_cnt, right_cnt = i, n - 1 - i\n",
    "            left_trees = self.dfs(start, start + i - 1)\n",
    "            right_trees = self.dfs(start + 1 + i, end)\n",
    "            for L in left_trees:\n",
    "                for R in right_trees:\n",
    "                    tmp = TreeNode(start + i)\n",
    "                    tmp.left = L\n",
    "                    tmp.right = R\n",
    "                    res.append(tmp)\n",
    "        self.d[(start, end)] = res\n",
    "        return res\n",
    "        \n",
    "    def generateTrees(self, n):\n",
    "        \"\"\"\n",
    "        :type n: int\n",
    "        :rtype: List[TreeNode]\n",
    "        \"\"\"\n",
    "        if n == 0:\n",
    "            return []\n",
    "        self.d = collections.defaultdict(list)\n",
    "        res = self.dfs(1, n)\n",
    "        \n",
    "        return res"
   ]
  },
  {
   "cell_type": "markdown",
   "metadata": {},
   "source": [
    "# 65. Longest Univalue Path (LC 687)\n",
    "Given a binary tree, find the length of the longest path where each node in the path has the same value. This path may or may not pass through the root.\n",
    "\n",
    "Note: The length of path between two nodes is represented by the number of edges between them."
   ]
  },
  {
   "cell_type": "code",
   "execution_count": 32,
   "metadata": {
    "collapsed": true
   },
   "outputs": [],
   "source": [
    "class Solution:\n",
    "    def dfs(self, node):\n",
    "        if node is None:\n",
    "            return None, 0\n",
    "        left = self.dfs(node.left)\n",
    "        right = self.dfs(node.right)\n",
    "        curr_len = 0\n",
    "        left_len = right_len = 0\n",
    "        if left[0] == node.val:\n",
    "            left_len = left[1]\n",
    "        if right[0] == node.val:\n",
    "            right_len = right[1]\n",
    "        \n",
    "        self.max_len = max(self.max_len, left_len + right_len + 1)\n",
    "        \n",
    "        return node.val, max(left_len, right_len) + 1\n",
    "        \n",
    "    def longestUnivaluePath(self, root):\n",
    "        \"\"\"\n",
    "        :type root: TreeNode\n",
    "        :rtype: int\n",
    "        \"\"\"\n",
    "        self.max_len = float('-inf')\n",
    "        \n",
    "        self.dfs(root)\n",
    "        res = self.max_len - 1 if self.max_len > float('-inf') else 0\n",
    "        return res"
   ]
  },
  {
   "cell_type": "markdown",
   "metadata": {},
   "source": [
    "# 66. Construct Binary Tree from Preorder and Inorder Traversal (LC 105)\n",
    "Given preorder and inorder traversal of a tree, construct the binary tree.\n",
    "\n",
    "Note:\n",
    "You may assume that duplicates do not exist in the tree."
   ]
  },
  {
   "cell_type": "code",
   "execution_count": 33,
   "metadata": {
    "collapsed": true
   },
   "outputs": [],
   "source": [
    "class Solution:\n",
    "    def dfs(self, preorder, inorder, pre_start, pre_end, in_start, in_end):\n",
    "        if pre_end < pre_start:\n",
    "            return \n",
    "        root_val = preorder[pre_start]\n",
    "        root = TreeNode(root_val)\n",
    "        pre_start += 1\n",
    "        \n",
    "        idx = inorder.index(root_val)\n",
    "        left_cnt = idx - in_start\n",
    "        right_cnt = in_end - idx\n",
    "        root.left = self.dfs(preorder, inorder, \n",
    "                             pre_start, pre_start + left_cnt - 1, in_start, idx - 1)\n",
    "        root.right = self.dfs(preorder, inorder, \n",
    "                              pre_start + left_cnt, pre_end, idx + 1, in_end)\n",
    "        \n",
    "        return root\n",
    "        \n",
    "        \n",
    "    def buildTree(self, preorder, inorder):\n",
    "        \"\"\"\n",
    "        :type preorder: List[int]\n",
    "        :type inorder: List[int]\n",
    "        :rtype: TreeNode\n",
    "        \"\"\"\n",
    "        res = self.dfs(preorder, inorder, 0, len(preorder)-1, 0, len(preorder)-1)\n",
    "        \n",
    "        return res"
   ]
  },
  {
   "cell_type": "code",
   "execution_count": 34,
   "metadata": {
    "collapsed": true
   },
   "outputs": [],
   "source": [
    "class Solution:\n",
    "    def dfs(self, preorder, inorder):\n",
    "        if not preorder:\n",
    "            return\n",
    "        root_val = preorder.pop(0)\n",
    "        root = TreeNode(root_val)\n",
    "        \n",
    "        idx = inorder.index(root_val)\n",
    "        left_cnt = idx\n",
    "        right_cnt = len(preorder) - left_cnt - 1\n",
    "        \n",
    "        root.left = self.dfs(preorder[:idx], inorder[:idx])\n",
    "        root.right = self.dfs(preorder[idx:], inorder[(idx+1):])\n",
    "        \n",
    "        return root\n",
    "        \n",
    "        \n",
    "    def buildTree(self, preorder, inorder):\n",
    "        \"\"\"\n",
    "        :type preorder: List[int]\n",
    "        :type inorder: List[int]\n",
    "        :rtype: TreeNode\n",
    "        \"\"\"\n",
    "        res = self.dfs(preorder, inorder)\n",
    "        \n",
    "        return res"
   ]
  },
  {
   "cell_type": "markdown",
   "metadata": {
    "collapsed": true
   },
   "source": [
    "# 67. Construct Binary Tree from Inorder and Postorder Traversal (LC 106)\n",
    "Given inorder and postorder traversal of a tree, construct the binary tree."
   ]
  },
  {
   "cell_type": "code",
   "execution_count": 35,
   "metadata": {
    "collapsed": true
   },
   "outputs": [],
   "source": [
    "class Solution:\n",
    "    def dfs(self, inorder, postorder):\n",
    "        if not inorder:\n",
    "            return\n",
    "        root_val = postorder.pop()\n",
    "        root = TreeNode(root_val)\n",
    "        \n",
    "        idx = inorder.index(root_val)\n",
    "        left_cnt = idx\n",
    "        root.left = self.dfs(inorder[:idx], postorder[:idx])\n",
    "        root.right = self.dfs(inorder[(idx+1):], postorder[idx:])\n",
    "        \n",
    "        return root\n",
    "        \n",
    "        \n",
    "    def buildTree(self, inorder, postorder):\n",
    "        \"\"\"\n",
    "        :type inorder: List[int]\n",
    "        :type postorder: List[int]\n",
    "        :rtype: TreeNode\n",
    "        \"\"\"\n",
    "        res = self.dfs(inorder, postorder)\n",
    "        \n",
    "        return res"
   ]
  },
  {
   "cell_type": "markdown",
   "metadata": {},
   "source": [
    "# 68. Populating Next Right Pointers in Each Node (LC 116)\n",
    "Populate each next pointer to point to its next right node. If there is no next right node, the next pointer should be set to NULL.\n",
    "\n",
    "Initially, all next pointers are set to NULL."
   ]
  },
  {
   "cell_type": "markdown",
   "metadata": {},
   "source": [
    "### Think:\n",
    "The question says it is a complete tree. The first solution doesn't depends on  complete tree assumption, so it is a bit more complex."
   ]
  },
  {
   "cell_type": "code",
   "execution_count": 1,
   "metadata": {
    "collapsed": true
   },
   "outputs": [],
   "source": [
    "class Solution:\n",
    "    # @param root, a tree link node\n",
    "    # @return nothing\n",
    "    def connect(self, root):\n",
    "        curr = runner = TreeLinkNode(0)\n",
    "        node = root\n",
    "        while node:\n",
    "            if node.left:\n",
    "                runner.next = node.left\n",
    "                runner = runner.next\n",
    "            if node.right:\n",
    "                runner.next = node.right\n",
    "                runner = runner.next\n",
    "            if node.next:\n",
    "                node = node.next\n",
    "            else:\n",
    "                node = curr.next\n",
    "                curr = runner = TreeLinkNode(0)"
   ]
  },
  {
   "cell_type": "code",
   "execution_count": 2,
   "metadata": {
    "collapsed": true
   },
   "outputs": [],
   "source": [
    "class Solution:\n",
    "    # @param root, a tree link node\n",
    "    # @return nothing\n",
    "    def connect(self, root):\n",
    "        curr = root\n",
    "        \n",
    "        while curr and curr.left:\n",
    "            runner = mark = curr.left\n",
    "            while curr:\n",
    "                runner.next = curr.right\n",
    "                runner = runner.next\n",
    "                if curr.next:\n",
    "                    runner.next = curr.next.left\n",
    "                    runner = runner.next\n",
    "                curr = curr.next\n",
    "            curr = mark"
   ]
  },
  {
   "cell_type": "code",
   "execution_count": 3,
   "metadata": {
    "collapsed": true
   },
   "outputs": [],
   "source": [
    "class Solution:\n",
    "    # @param root, a tree link node\n",
    "    # @return nothing\n",
    "    def connect(self, root):\n",
    "        if root is None:\n",
    "            return\n",
    "        curr = root\n",
    "        while curr.left:\n",
    "            mark = curr.left\n",
    "            while curr:\n",
    "                curr.left.next = curr.right\n",
    "                if curr.next:\n",
    "                    curr.right.next = curr.next.left\n",
    "                curr = curr.next\n",
    "            curr = mark"
   ]
  },
  {
   "cell_type": "markdown",
   "metadata": {
    "collapsed": true
   },
   "source": [
    "# 69. Populating Next Right Pointers in Each Node II (LC 117)\n",
    "Populate each next pointer to point to its next right node. If there is no next right node, the next pointer should be set to NULL.\n",
    "\n",
    "Initially, all next pointers are set to NULL."
   ]
  },
  {
   "cell_type": "markdown",
   "metadata": {
    "collapsed": true
   },
   "source": [
    "### Think:\n",
    "The difference from LC 116 is that the tree might not be a complete tree."
   ]
  },
  {
   "cell_type": "code",
   "execution_count": 4,
   "metadata": {
    "collapsed": true
   },
   "outputs": [],
   "source": [
    "class Solution:\n",
    "    # @param root, a tree link node\n",
    "    # @return nothing\n",
    "    def connect(self, root):\n",
    "        node = root\n",
    "        curr = runner = TreeLinkNode(0)\n",
    "        while node:\n",
    "            if node.left:\n",
    "                runner.next = node.left\n",
    "                runner = node.left\n",
    "            if node.right:\n",
    "                runner.next = node.right\n",
    "                runner = node.right\n",
    "            \n",
    "            if node.next:\n",
    "                node = node.next\n",
    "            else:\n",
    "                node = curr.next\n",
    "                curr = runner = TreeLinkNode(0)"
   ]
  },
  {
   "cell_type": "markdown",
   "metadata": {
    "collapsed": true
   },
   "source": [
    "# 70. Serialize and Deserialize Binary Tree (LC 297)\n",
    "Serialization is the process of converting a data structure or object into a sequence of bits so that it can be stored in a file or memory buffer, or transmitted across a network connection link to be reconstructed later in the same or another computer environment.\n",
    "\n",
    "Design an algorithm to serialize and deserialize a binary tree. There is no restriction on how your serialization/deserialization algorithm should work. You just need to ensure that a binary tree can be serialized to a string and this string can be deserialized to the original tree structure."
   ]
  },
  {
   "cell_type": "markdown",
   "metadata": {
    "collapsed": true
   },
   "source": [
    "### Think:\n",
    "Since it is a binary tree, so a single traversal, no matter it is preorder, inorder or postorder, will not determine a tree uniquely. We need to mark Null node as well to determine."
   ]
  },
  {
   "cell_type": "code",
   "execution_count": 5,
   "metadata": {
    "collapsed": true
   },
   "outputs": [],
   "source": [
    "class Codec:\n",
    "    sep = ','\n",
    "    \n",
    "    def serialize(self, root):\n",
    "        \"\"\"Encodes a tree to a single string.\n",
    "        \n",
    "        :type root: TreeNode\n",
    "        :rtype: str\n",
    "        \"\"\"\n",
    "        if root is None:\n",
    "            return '#'\n",
    "        return self.sep.join([str(root.val), \n",
    "                         self.serialize(root.left), \n",
    "                         self.serialize(root.right)])\n",
    "    def dfs(self, data):\n",
    "        if not data:\n",
    "            return\n",
    "        val = data.pop(0)\n",
    "        if val == '#':\n",
    "            return\n",
    "        root = TreeNode(int(val))\n",
    "        root.left = self.dfs(data)\n",
    "        root.right = self.dfs(data)\n",
    "        \n",
    "        return root\n",
    "        \n",
    "    def deserialize(self, data):\n",
    "        \"\"\"Decodes your encoded data to tree.\n",
    "        \n",
    "        :type data: str\n",
    "        :rtype: TreeNode\n",
    "        \"\"\"\n",
    "        if not data:\n",
    "            return\n",
    "        data = data.split(self.sep)\n",
    "        root = self.dfs(data)\n",
    "        return root\n",
    "\n",
    "# Your Codec object will be instantiated and called as such:\n",
    "# codec = Codec()\n",
    "# codec.deserialize(codec.serialize(root))"
   ]
  },
  {
   "cell_type": "markdown",
   "metadata": {
    "collapsed": true
   },
   "source": [
    "# 71. Recover Binary Search Tree (LC 99)\n",
    "Two elements of a binary search tree (BST) are swapped by mistake.\n",
    "\n",
    "Recover the tree without changing its structure."
   ]
  },
  {
   "cell_type": "markdown",
   "metadata": {
    "collapsed": true
   },
   "source": [
    "### Think:\n",
    "Do inorder traversal to find two nodes with wrong order."
   ]
  },
  {
   "cell_type": "code",
   "execution_count": 8,
   "metadata": {
    "collapsed": true
   },
   "outputs": [],
   "source": [
    "class Solution:\n",
    "    def dfs(self, node):\n",
    "        if node is None:\n",
    "            return\n",
    "        self.dfs(node.left)\n",
    "        if self.pre and self.pre.val > node.val:\n",
    "            if self.first is None:\n",
    "                self.first = self.pre\n",
    "            self.second = node\n",
    "        self.pre = node\n",
    "        self.dfs(node.right)\n",
    "        \n",
    "    def recoverTree(self, root):\n",
    "        \"\"\"\n",
    "        :type root: TreeNode\n",
    "        :rtype: void Do not return anything, modify root in-place instead.\n",
    "        \"\"\"\n",
    "        self.pre = self.first = self.second = None\n",
    "        \n",
    "        self.dfs(root)\n",
    "        \n",
    "        self.first.val, self.second.val = self.second.val, self.first.val"
   ]
  },
  {
   "cell_type": "markdown",
   "metadata": {
    "collapsed": true
   },
   "source": [
    "# 72. All nodes Distance K in Binary Tree (LC 863)\n",
    "We are given a binary tree (with root node root), a target node, and an integer value K.\n",
    "\n",
    "Return a list of the values of all nodes that have a distance K from the target node.  The answer can be returned in any order."
   ]
  },
  {
   "cell_type": "markdown",
   "metadata": {
    "collapsed": true
   },
   "source": [
    "### Think:\n",
    "Given this is a tree, and we need to know nodes that has distance K from a specific node, this means that we need to know a node's ancestor, which implies a graph structure."
   ]
  },
  {
   "cell_type": "code",
   "execution_count": 7,
   "metadata": {
    "collapsed": true
   },
   "outputs": [],
   "source": [
    "class Solution:\n",
    "    def dfs(self, node):\n",
    "        if node is None:\n",
    "            return\n",
    "        if node.left:\n",
    "            self.d[node.val].append(node.left.val)\n",
    "            self.d[node.left.val].append(node.val)\n",
    "            self.dfs(node.left)\n",
    "        if node.right:\n",
    "            self.d[node.val].append(node.right.val)\n",
    "            self.d[node.right.val].append(node.val)\n",
    "            self.dfs(node.right)\n",
    "        \n",
    "    def distanceK(self, root, target, K):\n",
    "        \"\"\"\n",
    "        :type root: TreeNode\n",
    "        :type target: TreeNode\n",
    "        :type K: int\n",
    "        :rtype: List[int]\n",
    "        \"\"\"\n",
    "        self.d = collections.defaultdict(list)\n",
    "        self.dfs(root)\n",
    "        \n",
    "        \n",
    "        curr_level = [target.val]\n",
    "        seen = set(curr_level)\n",
    "        steps = 0\n",
    "        while steps < K:\n",
    "            steps += 1\n",
    "            next_level = []\n",
    "            for c in curr_level:\n",
    "                for v in self.d[c]:\n",
    "                    if v not in seen:\n",
    "                        seen.add(v)\n",
    "                        next_level.append(v)\n",
    "            curr_level = next_level\n",
    "        return curr_level"
   ]
  }
 ],
 "metadata": {
  "kernelspec": {
   "display_name": "Python 3",
   "language": "python",
   "name": "python3"
  },
  "language_info": {
   "codemirror_mode": {
    "name": "ipython",
    "version": 3
   },
   "file_extension": ".py",
   "mimetype": "text/x-python",
   "name": "python",
   "nbconvert_exporter": "python",
   "pygments_lexer": "ipython3",
   "version": "3.5.0"
  }
 },
 "nbformat": 4,
 "nbformat_minor": 2
}
