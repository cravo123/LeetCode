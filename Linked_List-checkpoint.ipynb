{
 "cells": [
  {
   "cell_type": "markdown",
   "metadata": {},
   "source": [
    "<h1><center>Linked List</center></h1>"
   ]
  },
  {
   "cell_type": "markdown",
   "metadata": {},
   "source": [
    "Linked list is a linear data structure. \n",
    "-  It doesn't have O(1) random access to single node like array does. Instead, you only have access to head of linked list, and need to iterate through all nodes one by one in order to find the target, so time complexity is O(N).\n",
    "\n",
    "Typical linked list node class is like below. val attribute stores node value, and next saves the next node."
   ]
  },
  {
   "cell_type": "code",
   "execution_count": 1,
   "metadata": {
    "collapsed": true
   },
   "outputs": [],
   "source": [
    "class ListNode:\n",
    "    def __init__(self, val=None):\n",
    "        self.val = val\n",
    "        self.next = None"
   ]
  },
  {
   "cell_type": "markdown",
   "metadata": {},
   "source": [
    "Normal tricks of linked list include,\n",
    "-  fast and slow pointers, which could help find the middle of a linked list,\n",
    "-  create a dummy head so to avoid many special case handling problem,\n",
    "-  when you want to delete a node called ```curr```, then you need to know its previous node ```pre```, and can delete it by \n",
    "```\n",
    "pre.next = pre.next.next\n",
    "```"
   ]
  },
  {
   "cell_type": "markdown",
   "metadata": {},
   "source": [
    "# 1. Middle of the Linked List (LC 876)\n",
    "Given a non-empty, singly linked list with head node head, return a middle node of linked list.\n",
    "\n",
    "If there are two middle nodes, return the second middle node."
   ]
  },
  {
   "cell_type": "markdown",
   "metadata": {},
   "source": [
    "### Think: \n",
    "In order to find the middle of the linked list, you can either first loop through the list to find the length, and on your second loop, you can stop at half to find the middle node.\n",
    "<br>\n",
    "But a more elegant way is to use fast and slow pointers to find the middle point. \n",
    "- Each time fast pointer walks 2 steps, and slow pointer only walks 1 step. \n",
    "- When fast pointer or its successor encounters None, slow is in the middle. \n",
    "   Note that,\n",
    "   - If total number of nodes is odd, then fast will stop at the last node and fast.next is None. Slow will be in the middle.\n",
    "   - If total number of nodes is even then fast will stop when fast is None, and slow will be the second middle node."
   ]
  },
  {
   "cell_type": "code",
   "execution_count": 4,
   "metadata": {
    "collapsed": true
   },
   "outputs": [],
   "source": [
    "class Solution:\n",
    "    def middleNode(self, head):\n",
    "        \"\"\"\n",
    "        :type head: ListNode\n",
    "        :rtype: ListNode\n",
    "        \"\"\"\n",
    "        fast = slow = head\n",
    "        while fast and fast.next:\n",
    "            fast = fast.next.next\n",
    "            slow = slow.next\n",
    "        return slow"
   ]
  },
  {
   "cell_type": "markdown",
   "metadata": {},
   "source": [
    "# 2. Linked List Components(LC 817)\n",
    "We are given head, the head node of a linked list containing unique integer values.\n",
    "\n",
    "We are also given the list G, a subset of the values in the linked list.\n",
    "\n",
    "Return the number of connected components in G, where two values are connected if they appear consecutively in the linked list.\n"
   ]
  },
  {
   "cell_type": "markdown",
   "metadata": {},
   "source": [
    "### Think:\n",
    "We can change G to be a set(hash table) in order to check existence in O(1). The number of components can be derived by counting tails of each component, i.e. if curr.val in G, and curr.next is None or curr.next.val not in G."
   ]
  },
  {
   "cell_type": "code",
   "execution_count": 3,
   "metadata": {
    "collapsed": true
   },
   "outputs": [],
   "source": [
    "class Solution:\n",
    "    def numComponents(self, head, G):\n",
    "        \"\"\"\n",
    "        :type head: ListNode\n",
    "        :type G: List[int]\n",
    "        :rtype: int\n",
    "        \"\"\"\n",
    "        cnt = 0\n",
    "        G = set(G)\n",
    "        curr = head\n",
    "        while curr:\n",
    "            if curr.val in G and (curr.next is None or curr.next.val not in G):\n",
    "                cnt += 1\n",
    "            curr = curr.next\n",
    "        return cnt"
   ]
  },
  {
   "cell_type": "markdown",
   "metadata": {},
   "source": [
    "# 3. Reverse Linked List (LC 206)\n",
    "Reverse a singly linked list."
   ]
  },
  {
   "cell_type": "markdown",
   "metadata": {},
   "source": [
    "### Think:\n",
    "We can reverse in place by pointing its next to its previous node. Reversing linked list is a very commonly used trick in LeetCode."
   ]
  },
  {
   "cell_type": "code",
   "execution_count": 2,
   "metadata": {
    "collapsed": true
   },
   "outputs": [],
   "source": [
    "class Solution:\n",
    "    def reverseList(self, head):\n",
    "        \"\"\"\n",
    "        :type head: ListNode\n",
    "        :rtype: ListNode\n",
    "        \"\"\"\n",
    "        pre, curr = None, head\n",
    "        while curr:\n",
    "            next_node = curr.next\n",
    "            curr.next = pre\n",
    "            pre = curr\n",
    "            curr = next_node\n",
    "        \n",
    "        return pre"
   ]
  },
  {
   "cell_type": "markdown",
   "metadata": {},
   "source": [
    "# 4. Delete Node in a Linked List (LC 237)\n",
    "Write a function to delete a node (except the tail) in a singly linked list, given only access to that node."
   ]
  },
  {
   "cell_type": "markdown",
   "metadata": {},
   "source": [
    "### Think:\n",
    "Since we only have access to the deleted node, the natural way is to copy content from next node, and point curr.next to curr.next.next."
   ]
  },
  {
   "cell_type": "code",
   "execution_count": 5,
   "metadata": {
    "collapsed": true
   },
   "outputs": [],
   "source": [
    "class Solution:\n",
    "    def deleteNode(self, node):\n",
    "        \"\"\"\n",
    "        :type node: ListNode\n",
    "        :rtype: void Do not return anything, modify node in-place instead.\n",
    "        \"\"\"\n",
    "        node.val = node.next.val\n",
    "        node.next = node.next.next"
   ]
  },
  {
   "cell_type": "markdown",
   "metadata": {},
   "source": [
    "# 5. Add Two Numbers II (LC 445)\n",
    "You are given two non-empty linked lists representing two non-negative integers. The most significant digit comes first and each of their nodes contain a single digit. Add the two numbers and return it as a linked list.\n",
    "\n",
    "You may assume the two numbers do not contain any leading zero, except the number 0 itself.\n",
    "\n",
    "Follow up:\n",
    "What if you cannot modify the input lists? In other words, reversing the lists is not allowed."
   ]
  },
  {
   "cell_type": "markdown",
   "metadata": {},
   "source": [
    "### Think:\n",
    "It is easy if most significant digit comes last. We can achieve this by reuse the reverse linked list code. \n",
    "For the follow-up, a work-around would be to first save node values to stack, and then pop values and calculate, which is essentially same as reversing linked list."
   ]
  },
  {
   "cell_type": "code",
   "execution_count": 6,
   "metadata": {
    "collapsed": true
   },
   "outputs": [],
   "source": [
    "class Solution:\n",
    "    def addTwoNumbers(self, l1, l2):\n",
    "        \"\"\"\n",
    "        :type l1: ListNode\n",
    "        :type l2: ListNode\n",
    "        :rtype: ListNode\n",
    "        \"\"\"\n",
    "        s1, s2 = [], []\n",
    "        \n",
    "        while l1:\n",
    "            s1.append(l1.val)\n",
    "            l1 = l1.next\n",
    "        while l2:\n",
    "            s2.append(l2.val)\n",
    "            l2 = l2.next\n",
    "        \n",
    "        curr = None\n",
    "        carry = 0\n",
    "        while s1 or s2 or carry:\n",
    "            val = carry\n",
    "            if s1:\n",
    "                val += s1.pop()\n",
    "            if s2:\n",
    "                val += s2.pop()\n",
    "            carry, val = divmod(val, 10)\n",
    "            new_node = ListNode(val)\n",
    "            new_node.next = curr\n",
    "            curr = new_node\n",
    "        \n",
    "        return curr"
   ]
  },
  {
   "cell_type": "markdown",
   "metadata": {},
   "source": [
    "# 6. Split Linked List in Parts (LC 725)\n",
    "Given a (singly) linked list with head node root, write a function to split the linked list into k consecutive linked list \"parts\".\n",
    "\n",
    "The length of each part should be as equal as possible: no two parts should have a size differing by more than 1. This may lead to some parts being null.\n",
    "\n",
    "The parts should be in order of occurrence in the input list, and parts occurring earlier should always have a size greater than or equal parts occurring later.\n",
    "\n",
    "Return a List of ListNode's representing the linked list parts that are formed.\n",
    "\n",
    "Examples 1->2->3->4, k = 5 // 5 equal parts [ [1], [2], [3], [4], null ]"
   ]
  },
  {
   "cell_type": "markdown",
   "metadata": {},
   "source": [
    "### Think:\n",
    "We need to know the length of the linked list. Assume it is N, then N//k would be the length of each part, at the first several components when N%k is larger than 0, we will add one more node to each component. "
   ]
  },
  {
   "cell_type": "code",
   "execution_count": 7,
   "metadata": {
    "collapsed": true
   },
   "outputs": [],
   "source": [
    "class Solution:\n",
    "    def calc_length(self, node):\n",
    "        cnt = 0\n",
    "        while node:\n",
    "            cnt += 1\n",
    "            node = node.next\n",
    "        return cnt\n",
    "    \n",
    "    def splitListToParts(self, root, k):\n",
    "        \"\"\"\n",
    "        :type root: ListNode\n",
    "        :type k: int\n",
    "        :rtype: List[ListNode]\n",
    "        \"\"\"\n",
    "        # Placeholder for result. \n",
    "        # In case lenght < k, we have correct result\n",
    "        result = [None for _ in range(k)]\n",
    "        length = self.calc_length(root)\n",
    "        n, residual = divmod(length, k)\n",
    "        \n",
    "        curr, pre = root, None\n",
    "        idx = 0\n",
    "        while curr:\n",
    "            cnt = n + (1 if residual > 0 else 0)\n",
    "            result[idx] = curr\n",
    "            idx += 1\n",
    "            for i in range(cnt):\n",
    "                pre = curr\n",
    "                curr = curr.next\n",
    "            pre.next = None\n",
    "            residual -= 1\n",
    "        \n",
    "        return result"
   ]
  },
  {
   "cell_type": "markdown",
   "metadata": {},
   "source": [
    "# 7. Odd Even Linked List (LC 328)\n",
    "Given a singly linked list, group all odd nodes together followed by the even nodes. Please note here we are talking about the node number and not the value in the nodes.\n",
    "\n",
    "You should try to do it in place. The program should run in O(1) space complexity and O(nodes) time complexity."
   ]
  },
  {
   "cell_type": "markdown",
   "metadata": {},
   "source": [
    "### Think:\n",
    "Save odd and even node as separate lists, and then concatenate."
   ]
  },
  {
   "cell_type": "code",
   "execution_count": 8,
   "metadata": {
    "collapsed": true
   },
   "outputs": [],
   "source": [
    "class Solution:\n",
    "    def oddEvenList(self, head):\n",
    "        \"\"\"\n",
    "        :type head: ListNode\n",
    "        :rtype: ListNode\n",
    "        \"\"\"\n",
    "        dummy_odd = curr_odd = ListNode(None)\n",
    "        dummy_even = curr_even = ListNode(None)\n",
    "        \n",
    "        curr = head\n",
    "        while curr:\n",
    "            curr_odd.next = curr\n",
    "            curr_odd = curr\n",
    "            \n",
    "            curr = curr.next\n",
    "            if curr:\n",
    "                curr_even.next = curr\n",
    "                curr_even = curr\n",
    "                curr = curr.next\n",
    "        curr_even.next = None\n",
    "        curr_odd.next = dummy_even.next\n",
    "        \n",
    "        return dummy_odd.next"
   ]
  },
  {
   "cell_type": "markdown",
   "metadata": {},
   "source": [
    "# 8. Merge Two Sorted Lists (LC 21)\n",
    "Merge two sorted linked lists and return it as a new list. The new list should be made by splicing together the nodes of the first two lists."
   ]
  },
  {
   "cell_type": "markdown",
   "metadata": {},
   "source": [
    "### Think:\n",
    "Using dummy head is a good practice to avoid special handling."
   ]
  },
  {
   "cell_type": "code",
   "execution_count": 9,
   "metadata": {
    "collapsed": true
   },
   "outputs": [],
   "source": [
    "class Solution:\n",
    "    def mergeTwoLists(self, l1, l2):\n",
    "        \"\"\"\n",
    "        :type l1: ListNode\n",
    "        :type l2: ListNode\n",
    "        :rtype: ListNode\n",
    "        \"\"\"\n",
    "        dummy = curr = ListNode(None)\n",
    "        while l1 and l2:\n",
    "            if l1.val <= l2.val:\n",
    "                curr.next = l1\n",
    "                l1 = l1.next\n",
    "            else:\n",
    "                curr.next = l2\n",
    "                l2 = l2.next\n",
    "            curr = curr.next\n",
    "        \n",
    "        if l1:\n",
    "            curr.next = l1\n",
    "        else:\n",
    "            curr.next = l2\n",
    "            \n",
    "        return dummy.next"
   ]
  },
  {
   "cell_type": "markdown",
   "metadata": {},
   "source": [
    "# 9. Swap Nodes in Pairs (LC 24)\n",
    "Given a linked list, swap every two adjacent nodes and return its head."
   ]
  },
  {
   "cell_type": "markdown",
   "metadata": {},
   "source": [
    "### Think:\n",
    "Similar to odd even linked list. "
   ]
  },
  {
   "cell_type": "code",
   "execution_count": 10,
   "metadata": {
    "collapsed": true
   },
   "outputs": [],
   "source": [
    "class Solution:\n",
    "    def swapPairs(self, head):\n",
    "        \"\"\"\n",
    "        :type head: ListNode\n",
    "        :rtype: ListNode\n",
    "        \"\"\"\n",
    "        dummy = curr = ListNode(None)\n",
    "        curr.next = head\n",
    "        while curr.next and curr.next.next:\n",
    "            first, second, third = curr.next, curr.next.next, curr.next.next.next\n",
    "            \n",
    "            curr.next = second\n",
    "            second.next = first\n",
    "            first.next = third\n",
    "            \n",
    "            curr = first\n",
    "        return dummy.next"
   ]
  },
  {
   "cell_type": "markdown",
   "metadata": {},
   "source": [
    "# 10. Remove Duplicates from Sorted List (LC 83)\n",
    "Given a sorted linked list, delete all duplicates such that each element appear only once."
   ]
  },
  {
   "cell_type": "markdown",
   "metadata": {},
   "source": [
    "### Think:\n",
    "Since we will always have the first node, there is node need to use dummy head. Also as mentioned in the beginning, we can use curr.next = curr.next.next to delete nodes."
   ]
  },
  {
   "cell_type": "code",
   "execution_count": 11,
   "metadata": {
    "collapsed": true
   },
   "outputs": [],
   "source": [
    "class Solution:\n",
    "    def deleteDuplicates(self, head):\n",
    "        \"\"\"\n",
    "        :type head: ListNode\n",
    "        :rtype: ListNode\n",
    "        \"\"\"\n",
    "        curr = head\n",
    "        while curr:\n",
    "            if curr.next and curr.val == curr.next.val:\n",
    "                curr.next = curr.next.next\n",
    "            else:\n",
    "                curr = curr.next\n",
    "        return head"
   ]
  },
  {
   "cell_type": "markdown",
   "metadata": {},
   "source": [
    "# 11. Convert Sorted List to Binary Search Tree (LC 109)\n",
    "Given a singly linked list where elements are sorted in ascending order, convert it to a height balanced BST.\n",
    "\n",
    "For this problem, a height-balanced binary tree is defined as a binary tree in which the depth of the two subtrees of every node never differ by more than 1."
   ]
  },
  {
   "cell_type": "markdown",
   "metadata": {},
   "source": [
    "### Think:\n",
    "When it comes to tree, most likely recursion is easier than iteration to implement. Also since the list is sorted, we can reuse \"find middle of linked list\" to get the parent node, and recursively call function to build binary tree."
   ]
  },
  {
   "cell_type": "code",
   "execution_count": 12,
   "metadata": {
    "collapsed": true
   },
   "outputs": [],
   "source": [
    "class Solution:\n",
    "    def find_middle(self, node):\n",
    "        fast = slow = node\n",
    "        pre = None\n",
    "        while fast and fast.next:\n",
    "            pre = slow\n",
    "            slow = slow.next\n",
    "            fast = fast.next.next\n",
    "        return pre, slow\n",
    "        \n",
    "    def sortedListToBST(self, head):\n",
    "        \"\"\"\n",
    "        :type head: ListNode\n",
    "        :rtype: TreeNode\n",
    "        \"\"\"\n",
    "        if head is None:\n",
    "            return\n",
    "        if head.next is None:\n",
    "            return TreeNode(head.val)\n",
    "        \n",
    "        pre, mid = self.find_middle(head)\n",
    "        if pre:\n",
    "            pre.next = None\n",
    "        \n",
    "        root = TreeNode(mid.val)\n",
    "        root.left = self.sortedListToBST(head)\n",
    "        root.right = self.sortedListToBST(mid.next)\n",
    "        \n",
    "        return root"
   ]
  },
  {
   "cell_type": "markdown",
   "metadata": {},
   "source": [
    "# 12. Insertion Sort List (LC 147)\n",
    "Sort a linked list using insertion sort.\n",
    "\n",
    "\n",
    "A graphical example of insertion sort. The partial sorted list (black) initially contains only the first element in the list.\n",
    "With each iteration one element (red) is removed from the input data and inserted in-place into the sorted list\n",
    " \n",
    "\n",
    "Algorithm of Insertion Sort:\n",
    "\n",
    "Insertion sort iterates, consuming one input element each repetition, and growing a sorted output list.\n",
    "At each iteration, insertion sort removes one element from the input data, finds the location it belongs within the sorted list, and inserts it there.\n",
    "It repeats until no input elements remain."
   ]
  },
  {
   "cell_type": "markdown",
   "metadata": {},
   "source": [
    "### Think:\n",
    "Insertion Sort in Link list is a bit error-prone, and very often will get TLE because of linked list cycle."
   ]
  },
  {
   "cell_type": "code",
   "execution_count": 13,
   "metadata": {
    "collapsed": true
   },
   "outputs": [],
   "source": [
    "class Solution:\n",
    "    def insertionSortList(self, head):\n",
    "        \"\"\"\n",
    "        :type head: ListNode\n",
    "        :rtype: ListNode\n",
    "        \"\"\"\n",
    "        dummy = curr = ListNode(None)\n",
    "        #curr.next = head \n",
    "        # Cannot have this line, otherwise it will generate\n",
    "        # cycle. This is because we didn't update curr's previous node\n",
    "        # to point to curr.next\n",
    "        curr = head\n",
    "        while curr:\n",
    "            next_node = curr.next\n",
    "            runner = dummy\n",
    "            while runner.next and runner.next.val < curr.val:\n",
    "                runner = runner.next\n",
    "            \n",
    "            curr.next = runner.next\n",
    "            runner.next = curr\n",
    "            \n",
    "            curr = next_node\n",
    "        return dummy.next"
   ]
  },
  {
   "cell_type": "markdown",
   "metadata": {},
   "source": [
    "# 13. Partition List (LC 86)\n",
    "Given a linked list and a value x, partition it such that all nodes less than x come before nodes greater than or equal to x.\n",
    "\n",
    "You should preserve the original relative order of the nodes in each of the two partitions."
   ]
  },
  {
   "cell_type": "markdown",
   "metadata": {},
   "source": [
    "### Think:\n",
    "Similar idea as odd-even problem, we can generate two linked list and concatenate them."
   ]
  },
  {
   "cell_type": "code",
   "execution_count": 14,
   "metadata": {
    "collapsed": true
   },
   "outputs": [],
   "source": [
    "class Solution:\n",
    "    def partition(self, head, x):\n",
    "        \"\"\"\n",
    "        :type head: ListNode\n",
    "        :type x: int\n",
    "        :rtype: ListNode\n",
    "        \"\"\"\n",
    "        dummy_less = less = ListNode(None)\n",
    "        dummy_more = more = ListNode(None)\n",
    "        \n",
    "        curr = head\n",
    "        while curr:\n",
    "            if curr.val < x:\n",
    "                less.next = curr\n",
    "                less = curr\n",
    "            else:\n",
    "                more.next = curr\n",
    "                more = curr\n",
    "            curr = curr.next\n",
    "        more.next = None\n",
    "        less.next = dummy_more.next\n",
    "        \n",
    "        return dummy_less.next"
   ]
  },
  {
   "cell_type": "markdown",
   "metadata": {},
   "source": [
    "# 14. Flatten a Multilevel Doubly Linked List (LC 430)\n",
    "You are given a doubly linked list which in addition to the next and previous pointers, it could have a child pointer, which may or may not point to a separate doubly linked list. These child lists may have one or more children of their own, and so on, to produce a multilevel data structure, as shown in the example below.\n",
    "\n",
    "Flatten the list so that all the nodes appear in a single-level, doubly linked list. You are given the head of the first level of the list."
   ]
  },
  {
   "cell_type": "markdown",
   "metadata": {},
   "source": [
    "### Think:\n",
    "This is a typical problem which can be solved by recursion. But we can also do it iteratively. Then idea is to insert its child list to current position until current position doesn't have a child list. Don't forget to null child to be None."
   ]
  },
  {
   "cell_type": "code",
   "execution_count": 15,
   "metadata": {
    "collapsed": true
   },
   "outputs": [],
   "source": [
    "class Solution(object):\n",
    "    def flatten(self, head):\n",
    "        \"\"\"\n",
    "        :type head: Node\n",
    "        :rtype: Node\n",
    "        \"\"\"\n",
    "        dummy = curr = Node(0, None, head, None)\n",
    "        \n",
    "        while curr.next:\n",
    "            if curr.next.child:\n",
    "                next_node = curr.next.next\n",
    "                \n",
    "                child_start = curr.next.child\n",
    "                child_end = child_start\n",
    "                while child_end.next:\n",
    "                    child_end = child_end.next\n",
    "                # link child start\n",
    "                curr.next.next = child_start\n",
    "                child_start.prev = curr.next\n",
    "                \n",
    "                # link child end\n",
    "                if next_node:\n",
    "                    child_end.next = next_node\n",
    "                    next_node.prev = child_end\n",
    "                \n",
    "                # Null child\n",
    "                curr.next.child = None\n",
    "            else:\n",
    "                curr = curr.next\n",
    "        return dummy.next"
   ]
  },
  {
   "cell_type": "markdown",
   "metadata": {},
   "source": [
    "# 15. Linked List Cycle (LC 141)\n",
    "Given a linked list, determine if it has a cycle in it.\n",
    "\n",
    "Follow up:\n",
    "Can you solve it without using extra space?"
   ]
  },
  {
   "cell_type": "markdown",
   "metadata": {},
   "source": [
    "### Think:\n",
    "We can use dict to remember visited value. But a more classic solution is to use fast and slow pointer, which fast runs 2 steps a time, and slow runs 1 step. If fast ever equals to slow, then there is cycle."
   ]
  },
  {
   "cell_type": "code",
   "execution_count": 16,
   "metadata": {
    "collapsed": true
   },
   "outputs": [],
   "source": [
    "class Solution(object):\n",
    "    def hasCycle(self, head):\n",
    "        \"\"\"\n",
    "        :type head: ListNode\n",
    "        :rtype: bool\n",
    "        \"\"\"\n",
    "        fast = slow = head\n",
    "        while fast and fast.next:\n",
    "            fast = fast.next.next\n",
    "            slow = slow.next\n",
    "            if slow is fast:\n",
    "                return True\n",
    "        return False"
   ]
  },
  {
   "cell_type": "markdown",
   "metadata": {},
   "source": [
    "# 16. Remove Linked List Elements (LC 203)\n",
    "Remove all elements from a linked list of integers that have value val."
   ]
  },
  {
   "cell_type": "markdown",
   "metadata": {},
   "source": [
    "### Think:\n",
    "Since head node could have same value as val, we may then need to delete head as well. So a natural way is to use dummy node. Also remember an elegant way to delete node is use \"curr.next = curr.next.next\". Here we don't update curr to be curr.next until we know curr.next.val != val."
   ]
  },
  {
   "cell_type": "code",
   "execution_count": 17,
   "metadata": {
    "collapsed": true
   },
   "outputs": [],
   "source": [
    "class Solution(object):\n",
    "    def removeElements(self, head, val):\n",
    "        \"\"\"\n",
    "        :type head: ListNode\n",
    "        :type val: int\n",
    "        :rtype: ListNode\n",
    "        \"\"\"\n",
    "        dummy = curr = ListNode(None)\n",
    "        curr.next = head\n",
    "        while curr.next:\n",
    "            if curr.next.val == val:\n",
    "                curr.next = curr.next.next\n",
    "            else:\n",
    "                curr = curr.next\n",
    "        return dummy.next"
   ]
  },
  {
   "cell_type": "markdown",
   "metadata": {},
   "source": [
    "# 17. Palindrome Linked List (LC 234)\n",
    "Given a singly linked list, determine if it is a palindrome."
   ]
  },
  {
   "cell_type": "markdown",
   "metadata": {},
   "source": [
    "### Think:\n",
    "As mentioned previously, we could again use fast and slow pointer to find the middle point of the linked list, and reverse the second-half. Then determine if first-half equals to second-half."
   ]
  },
  {
   "cell_type": "code",
   "execution_count": 18,
   "metadata": {
    "collapsed": true
   },
   "outputs": [],
   "source": [
    "class Solution(object):\n",
    "    def isPalindrome(self, head):\n",
    "        \"\"\"\n",
    "        :type head: ListNode\n",
    "        :rtype: bool\n",
    "        \"\"\"\n",
    "        fast, slow = head, head\n",
    "        while fast and fast.next:\n",
    "            slow = slow.next\n",
    "            fast = fast.next.next\n",
    "        \n",
    "        # Reverse second-half\n",
    "        pre, curr = None, slow\n",
    "        while curr:\n",
    "            next_node = curr.next\n",
    "            curr.next = pre\n",
    "            pre = curr\n",
    "            curr = next_node\n",
    "        \n",
    "        runner1, runner2 = head, pre\n",
    "        while runner1 is not slow:\n",
    "            if runner1.val != runner2.val:\n",
    "                return False\n",
    "            runner1 = runner1.next\n",
    "            runner2 = runner2.next\n",
    "        \n",
    "        return True"
   ]
  },
  {
   "cell_type": "markdown",
   "metadata": {},
   "source": [
    "# 18. Remove Nth Node From End of List (LC 19)\n",
    "Given a linked list, remove the n-th node from the end of list and return its head.\n",
    "\n",
    "Example:\n",
    "\n",
    "Given linked list: 1->2->3->4->5, and n = 2.\n",
    "\n",
    "After removing the second node from the end, the linked list becomes 1->2->3->5.\n",
    "Note:\n",
    "\n",
    "Given n will always be valid.\n",
    "\n",
    "Follow up:\n",
    "\n",
    "Could you do this in one pass?"
   ]
  },
  {
   "cell_type": "markdown",
   "metadata": {},
   "source": [
    "### Think:\n",
    "We could first get the length of the list, and then we know which node to delete, but this requires 2 passes. If you read the question again, you will find we can take advantage of the fact that n is always valid. So we could set  two pointers, fast and slow, let fast run n steps ahead, and then make slow and fast both run. When fast becomes None, slow will be the node needs to be deleted. Also we need dummy node here because if there is only one node, and n = 1, then we need to delete head, which leaves us nothing to return."
   ]
  },
  {
   "cell_type": "code",
   "execution_count": 19,
   "metadata": {
    "collapsed": true
   },
   "outputs": [],
   "source": [
    "class Solution(object):\n",
    "    def removeNthFromEnd(self, head, n):\n",
    "        \"\"\"\n",
    "        :type head: ListNode\n",
    "        :type n: int\n",
    "        :rtype: ListNode\n",
    "        \"\"\"\n",
    "        fast = slow = head\n",
    "        dummy = pre = ListNode(None)\n",
    "        pre.next = head\n",
    "        for _ in range(n):\n",
    "            fast = fast.next\n",
    "        \n",
    "        while fast:\n",
    "            pre = slow\n",
    "            slow = slow.next\n",
    "            fast = fast.next\n",
    "        \n",
    "        pre.next = pre.next.next\n",
    "        \n",
    "        return dummy.next"
   ]
  },
  {
   "cell_type": "markdown",
   "metadata": {
    "collapsed": true
   },
   "source": [
    "# 19. Reverse Nodes in k-Group\n",
    "Given a linked list, reverse the nodes of a linked list k at a time and return its modified list.\n",
    "\n",
    "k is a positive integer and is less than or equal to the length of the linked list. If the number of nodes is not a multiple of k then left-out nodes in the end should remain as it is.\n",
    "\n",
    "Example:\n",
    "\n",
    "Given this linked list: 1->2->3->4->5\n",
    "\n",
    "For k = 2, you should return: 2->1->4->3->5\n",
    "\n",
    "For k = 3, you should return: 3->2->1->4->5\n",
    "\n",
    "Note:\n",
    "\n",
    "Only constant extra memory is allowed.\n",
    "You may not alter the values in the list's nodes, only nodes itself may be changed."
   ]
  },
  {
   "cell_type": "markdown",
   "metadata": {},
   "source": [
    "### Think:\n",
    "Reverse linked list could be complicated, so it is better to abstract the reversing logic as a separate function."
   ]
  },
  {
   "cell_type": "code",
   "execution_count": 1,
   "metadata": {
    "collapsed": true
   },
   "outputs": [],
   "source": [
    "class Solution(object):\n",
    "    def find_last(self, start, k):\n",
    "        curr, i = start, 0\n",
    "        while i < k and curr:\n",
    "            curr = curr.next\n",
    "            i += 1\n",
    "        if i == k:\n",
    "            return curr\n",
    "    \n",
    "    def reverse(self, start, end):\n",
    "        new_end, new_start = start, end\n",
    "        pre, curr = None, start\n",
    "        while curr:\n",
    "            next_node = curr.next\n",
    "            curr.next = pre\n",
    "            pre = curr\n",
    "            curr = next_node\n",
    "        return new_start, new_end\n",
    "    \n",
    "    def reverseKGroup(self, head, k):\n",
    "        \"\"\"\n",
    "        :type head: ListNode\n",
    "        :type k: int\n",
    "        :rtype: ListNode\n",
    "        \"\"\"\n",
    "        dummy = ListNode(0)\n",
    "        dummy.next = head\n",
    "        curr = dummy\n",
    "        while curr and curr.next:\n",
    "            end = self.find_last(curr, k)\n",
    "            if end:\n",
    "                next_node = end.next\n",
    "                end.next = None\n",
    "                new_start, new_end = self.reverse(curr.next, end)\n",
    "                curr.next = new_start\n",
    "                new_end.next = next_node\n",
    "                curr = new_end\n",
    "            else:\n",
    "                break\n",
    "        return dummy.next"
   ]
  },
  {
   "cell_type": "markdown",
   "metadata": {},
   "source": [
    "# 20. Reverse Linked List II (LC 92)\n",
    "Reverse a linked list from position m to n. Do it in one-pass.\n",
    "\n",
    "Note: 1 ≤ m ≤ n ≤ length of list.\n",
    "\n",
    "Example:\n",
    "\n",
    "Input: 1->2->3->4->5->NULL, m = 2, n = 4\n",
    "Output: 1->4->3->2->5->NULL"
   ]
  },
  {
   "cell_type": "markdown",
   "metadata": {},
   "source": [
    "### Think:\n",
    "Similar to last question, actually somewhat simpler."
   ]
  },
  {
   "cell_type": "code",
   "execution_count": 2,
   "metadata": {
    "collapsed": true
   },
   "outputs": [],
   "source": [
    "class Solution(object):\n",
    "    def reverseBetween(self, head, m, n):\n",
    "        \"\"\"\n",
    "        :type head: ListNode\n",
    "        :type m: int\n",
    "        :type n: int\n",
    "        :rtype: ListNode\n",
    "        \"\"\"\n",
    "        dummy = curr = ListNode(0)\n",
    "        dummy.next = head\n",
    "        \n",
    "        # Find pre\n",
    "        i = 1\n",
    "        while curr and i < m:\n",
    "            curr = curr.next\n",
    "            i += 1\n",
    "        start = curr\n",
    "        \n",
    "        # Reverse\n",
    "        pre, curr = None, curr.next\n",
    "        while i <= n:\n",
    "            next_node = curr.next\n",
    "            curr.next = pre\n",
    "            pre = curr\n",
    "            curr = next_node\n",
    "            i += 1\n",
    "        start.next.next = curr\n",
    "        start.next = pre\n",
    "        \n",
    "        return dummy.next"
   ]
  },
  {
   "cell_type": "markdown",
   "metadata": {},
   "source": [
    "# 21. Sort List (LC 148)\n",
    "Sort a linked list in O(n log n) time using constant space complexity."
   ]
  },
  {
   "cell_type": "markdown",
   "metadata": {},
   "source": [
    "### Think:\n",
    "Since it requires O(n log n), so a natural way is to use merge sort."
   ]
  },
  {
   "cell_type": "code",
   "execution_count": 3,
   "metadata": {
    "collapsed": true
   },
   "outputs": [],
   "source": [
    "class Solution(object):\n",
    "    def find_middle(self, node):\n",
    "        pre = None\n",
    "        slow = fast = node\n",
    "        while fast and fast.next:\n",
    "            pre = slow\n",
    "            fast = fast.next.next\n",
    "            slow = slow.next\n",
    "        pre.next = None\n",
    "        return slow\n",
    "    \n",
    "    def merge(self, p, q):\n",
    "        dummy = curr = ListNode(0)\n",
    "        \n",
    "        while p and q:\n",
    "            if p.val <= q.val:\n",
    "                curr.next = p\n",
    "                p = p.next\n",
    "            else:\n",
    "                curr.next = q\n",
    "                q = q.next\n",
    "            curr = curr.next\n",
    "        if p:\n",
    "            curr.next = p\n",
    "        else:\n",
    "            curr.next = q\n",
    "        return dummy.next\n",
    "    \n",
    "    def sortList(self, head):\n",
    "        \"\"\"\n",
    "        :type head: ListNode\n",
    "        :rtype: ListNode\n",
    "        \"\"\"\n",
    "        if head is None or head.next is None:\n",
    "            return head\n",
    "        \n",
    "        middle = self.find_middle(head)\n",
    "        list_1, list_2 = head, middle\n",
    "        p, q = self.sortList(list_1), self.sortList(list_2)\n",
    "        \n",
    "        new_head = self.merge(p, q)\n",
    "        return new_head"
   ]
  },
  {
   "cell_type": "markdown",
   "metadata": {},
   "source": [
    "# 22. Remove Duplicates from Sorted List II (LC 82)\n",
    "Given a sorted linked list, delete all nodes that have duplicate numbers, leaving only distinct numbers from the original list."
   ]
  },
  {
   "cell_type": "markdown",
   "metadata": {},
   "source": [
    "### Think:\n",
    "Since it is sorted, we can just check if curr.val == curr.next.val"
   ]
  },
  {
   "cell_type": "code",
   "execution_count": 4,
   "metadata": {
    "collapsed": true
   },
   "outputs": [],
   "source": [
    "class Solution(object):\n",
    "    def deleteDuplicates(self, head):\n",
    "        \"\"\"\n",
    "        :type head: ListNode\n",
    "        :rtype: ListNode\n",
    "        \"\"\"\n",
    "        dummy = ListNode(0)\n",
    "        dummy.next = head\n",
    "        curr = dummy\n",
    "        while curr.next:\n",
    "            # determine the tail of curr val\n",
    "            runner = curr.next\n",
    "            while runner and runner.next and runner.val == runner.next.val:\n",
    "                runner = runner.next\n",
    "            if curr.next is runner:\n",
    "                curr = curr.next\n",
    "            else:\n",
    "                curr.next = runner.next\n",
    "        return dummy.next"
   ]
  },
  {
   "cell_type": "markdown",
   "metadata": {},
   "source": [
    "# 23. Intersection of Two Linked Lists (LC 160)\n",
    "Write a program to find the node at which the intersection of two singly linked lists begins.\n",
    "\n",
    "\n",
    "For example, the following two linked lists:"
   ]
  },
  {
   "cell_type": "markdown",
   "metadata": {},
   "source": [
    "### Think:\n",
    "Say we have two linked lists, a and b, we can set two runners, first rund in order of (a, b), and second of (b, a). And they will meet at the intersection node. If they have no intersection, then runner will be equal to each other with value of None.\n",
    "Another way is to get the length of both lists, and then let longer list runner runs several steps ahead with the number of steps equal to length difference.\n",
    "Time complexity of both should be the same."
   ]
  },
  {
   "cell_type": "code",
   "execution_count": 5,
   "metadata": {
    "collapsed": true
   },
   "outputs": [],
   "source": [
    "class Solution(object):\n",
    "    def getIntersectionNode(self, headA, headB):\n",
    "        \"\"\"\n",
    "        :type head1, head1: ListNode\n",
    "        :rtype: ListNode\n",
    "        \"\"\"\n",
    "        runner1, runner2 = headA, headB\n",
    "        while runner1 != runner2:\n",
    "            runner1 = runner1.next if runner1 else headB\n",
    "            runner2 = runner2.next if runner2 else headA\n",
    "        return runner1"
   ]
  },
  {
   "cell_type": "markdown",
   "metadata": {},
   "source": [
    "# 24. Merge k Sorted Lists (LC 23)\n",
    "Merge k sorted linked lists and return it as one sorted list. Analyze and describe its complexity."
   ]
  },
  {
   "cell_type": "markdown",
   "metadata": {},
   "source": [
    "### Think:\n",
    "Can write a recursion function that recurse on number of k."
   ]
  },
  {
   "cell_type": "code",
   "execution_count": 6,
   "metadata": {
    "collapsed": true
   },
   "outputs": [],
   "source": [
    "class Solution(object):\n",
    "    def merge2Lists(self, p, q):\n",
    "        dummy = curr = ListNode(0)\n",
    "        while p and q:\n",
    "            if p.val <= q.val:\n",
    "                curr.next = p\n",
    "                p = p.next\n",
    "            else:\n",
    "                curr.next = q\n",
    "                q = q.next\n",
    "            curr = curr.next\n",
    "        if p:\n",
    "            curr.next = p\n",
    "        else:\n",
    "            curr.next = q\n",
    "        return dummy.next\n",
    "    \n",
    "    def mergeKLists(self, lists):\n",
    "        \"\"\"\n",
    "        :type lists: List[ListNode]\n",
    "        :rtype: ListNode\n",
    "        \"\"\"\n",
    "        if len(lists) == 0:\n",
    "            return \n",
    "        if len(lists) == 1:\n",
    "            return lists[0]\n",
    "        p = lists.pop()\n",
    "        while lists:\n",
    "            q = lists.pop()\n",
    "            p = self.merge2Lists(p, q)\n",
    "        return p"
   ]
  },
  {
   "cell_type": "markdown",
   "metadata": {},
   "source": [
    "# 25. Linked List Cycle II (LC 142)\n",
    "Given a linked list, return the node where the cycle begins. If there is no cycle, return null.\n",
    "\n",
    "Note: Do not modify the linked list.\n",
    "\n",
    "Follow up:\n",
    "Can you solve it without using extra space?"
   ]
  },
  {
   "cell_type": "markdown",
   "metadata": {},
   "source": [
    "### Think:\n",
    "We need to use fast and slow runner again. If fast and slow pointer encounter each other, then there is a cycle, otherwise there is not.\n",
    "If there is, then it needs a bit more thinking to know where the cycle begins. You can think this way, assume the fast pointer only runs one more cycle than the slow one, then it is easy to confirm that if you put slow pointer back to head again, and let both fast and slow pointer run 1 step per time, then when they encounter, it is the begin node of the cycle."
   ]
  },
  {
   "cell_type": "code",
   "execution_count": 7,
   "metadata": {
    "collapsed": true
   },
   "outputs": [],
   "source": [
    "class Solution(object):\n",
    "    def detectCycle(self, head):\n",
    "        \"\"\"\n",
    "        :type head: ListNode\n",
    "        :rtype: ListNode\n",
    "        \"\"\"\n",
    "        fast = slow = head\n",
    "        is_cycle = False\n",
    "        while fast and fast.next:\n",
    "            fast = fast.next.next\n",
    "            slow = slow.next\n",
    "            if fast == slow:\n",
    "                is_cycle = True\n",
    "                break\n",
    "        if is_cycle:\n",
    "            # there is cycle\n",
    "            slow = head\n",
    "            while slow != fast:\n",
    "                slow = slow.next\n",
    "                fast = fast.next\n",
    "            return slow\n",
    "        return None"
   ]
  },
  {
   "cell_type": "markdown",
   "metadata": {},
   "source": [
    "# 26. Add Two Numbers (LC 2)\n",
    "You are given two non-empty linked lists representing two non-negative integers. The digits are stored in reverse order and each of their nodes contain a single digit. Add the two numbers and return it as a linked list.\n",
    "\n",
    "You may assume the two numbers do not contain any leading zero, except the number 0 itself."
   ]
  },
  {
   "cell_type": "markdown",
   "metadata": {},
   "source": [
    "### Think:\n",
    "Since digits are stored in reversed order, then the solution is pretty standard."
   ]
  },
  {
   "cell_type": "code",
   "execution_count": 8,
   "metadata": {
    "collapsed": true
   },
   "outputs": [],
   "source": [
    "class Solution(object):\n",
    "    def addTwoNumbers(self, l1, l2):\n",
    "        \"\"\"\n",
    "        :type l1: ListNode\n",
    "        :type l2: ListNode\n",
    "        :rtype: ListNode\n",
    "        \"\"\"\n",
    "        dummy = curr = ListNode(0)\n",
    "        carry = 0\n",
    "        while l1 or l2 or carry:\n",
    "            if l1:\n",
    "                carry += l1.val\n",
    "                l1 = l1.next\n",
    "            if l2:\n",
    "                carry += l2.val\n",
    "                l2 = l2.next\n",
    "            carry, val = divmod(carry, 10)\n",
    "            curr.next = ListNode(val)\n",
    "            curr = curr.next\n",
    "        return dummy.next"
   ]
  },
  {
   "cell_type": "markdown",
   "metadata": {},
   "source": [
    "# 27. Reorder List (LC 143)\n",
    "Given a singly linked list L: L0→L1→…→Ln-1→Ln,\n",
    "reorder it to: L0→Ln→L1→Ln-1→L2→Ln-2→…\n",
    "\n",
    "You may not modify the values in the list's nodes, only nodes itself may be changed."
   ]
  },
  {
   "cell_type": "markdown",
   "metadata": {},
   "source": [
    "### Think:\n",
    "We can reuse Reverse Linked List code, and also find middle code."
   ]
  },
  {
   "cell_type": "code",
   "execution_count": 9,
   "metadata": {
    "collapsed": true
   },
   "outputs": [],
   "source": [
    "class Solution:\n",
    "    def reorderList(self, head):\n",
    "        \"\"\"\n",
    "        :type head: ListNode\n",
    "        :rtype: void Do not return anything, modify head in-place instead.\n",
    "        \"\"\"\n",
    "        if head is None or head.next is None:\n",
    "            return\n",
    "        \n",
    "        # find middle\n",
    "        fast = slow = head\n",
    "        pre = None\n",
    "        while fast and fast.next:\n",
    "            pre = slow\n",
    "            fast = fast.next.next\n",
    "            slow = slow.next\n",
    "        if pre:\n",
    "            pre.next = None\n",
    "        \n",
    "        curr = slow\n",
    "        pre = None\n",
    "        while curr:\n",
    "            next_node = curr.next\n",
    "            curr.next = pre\n",
    "            pre = curr\n",
    "            curr = next_node\n",
    "        \n",
    "        dummy = curr = ListNode(0)\n",
    "        l1, l2 = head, pre\n",
    "        while l1 and l2:\n",
    "            curr.next = l1\n",
    "            l1 = l1.next\n",
    "            curr = curr.next\n",
    "            \n",
    "            curr.next = l2\n",
    "            l2 = l2.next\n",
    "            curr = curr.next\n",
    "            \n",
    "        if l1:\n",
    "            curr.next = l1\n",
    "        else:\n",
    "            curr.next = l2\n",
    "        head = dummy.next"
   ]
  },
  {
   "cell_type": "markdown",
   "metadata": {},
   "source": [
    "# 28. Rotate List (LC 61)\n",
    "Given a linked list, rotate the list to the right by k places, where k is non-negative.\n",
    "\n",
    "Example 1:\n",
    "\n",
    "Input: 1->2->3->4->5->NULL, k = 2\n",
    "Output: 4->5->1->2->3->NULL\n",
    "Explanation:\n",
    "rotate 1 steps to the right: 5->1->2->3->4->NULL\n",
    "rotate 2 steps to the right: 4->5->1->2->3->NULL\n",
    "Example 2:\n",
    "\n",
    "Input: 0->1->2->NULL, k = 4\n",
    "Output: 2->0->1->NULL\n",
    "Explanation:\n",
    "rotate 1 steps to the right: 2->0->1->NULL\n",
    "rotate 2 steps to the right: 1->2->0->NULL\n",
    "rotate 3 steps to the right: 0->1->2->NULL\n",
    "rotate 4 steps to the right: 2->0->1->NULL"
   ]
  },
  {
   "cell_type": "markdown",
   "metadata": {},
   "source": [
    "### Think:\n",
    "Idea is get the kth to the last node, and concatenate the first section to the end. Since k could be larger then the lenght of list, we need to know length first to modulo k."
   ]
  },
  {
   "cell_type": "code",
   "execution_count": 10,
   "metadata": {
    "collapsed": true
   },
   "outputs": [],
   "source": [
    "class Solution(object):\n",
    "    def get_len(self, node):\n",
    "        n = 0\n",
    "        while node:\n",
    "            n += 1\n",
    "            node = node.next\n",
    "        return n\n",
    "    \n",
    "    def rotateRight(self, head, k):\n",
    "        \"\"\"\n",
    "        :type head: ListNode\n",
    "        :type k: int\n",
    "        :rtype: ListNode\n",
    "        \"\"\"\n",
    "        if head is None or head.next is None:\n",
    "            return head\n",
    "        \n",
    "        length = self.get_len(head)\n",
    "        k %= length\n",
    "        if k == 0:\n",
    "            return head\n",
    "        fast, pre = head, None\n",
    "        i = 0\n",
    "        while i < length - k:\n",
    "            i += 1\n",
    "            pre = fast\n",
    "            fast = fast.next\n",
    "        pre.next = None\n",
    "        \n",
    "        new_head = fast\n",
    "        while fast and fast.next:\n",
    "            fast = fast.next\n",
    "        fast.next = head\n",
    "        \n",
    "        return new_head"
   ]
  },
  {
   "cell_type": "markdown",
   "metadata": {},
   "source": [
    "# 29. Copy List with Random Pointer (LC 138)\n",
    "A linked list is given such that each node contains an additional random pointer which could point to any node in the list or null.\n",
    "\n",
    "Return a deep copy of the list."
   ]
  },
  {
   "cell_type": "markdown",
   "metadata": {},
   "source": [
    "### Think:\n",
    "There are two ways to do this, one is through hashmap, and the other one is add a copy node to each node, so that we would heva random access to the copy node."
   ]
  },
  {
   "cell_type": "markdown",
   "metadata": {
    "collapsed": true
   },
   "source": [
    "### Solution 1: Copy a node and save it next to original one"
   ]
  },
  {
   "cell_type": "code",
   "execution_count": 11,
   "metadata": {
    "collapsed": true
   },
   "outputs": [],
   "source": [
    "class Solution(object):\n",
    "    def copyRandomList(self, head):\n",
    "        \"\"\"\n",
    "        :type head: RandomListNode\n",
    "        :rtype: RandomListNode\n",
    "        \"\"\"\n",
    "        \n",
    "        # Copy each node, and save it just next to its original node\n",
    "        curr = head\n",
    "        while curr:\n",
    "            next_node = curr.next\n",
    "            new_node = RandomListNode(curr.label)\n",
    "            curr.next = new_node\n",
    "            new_node.next = next_node\n",
    "            curr = next_node\n",
    "        \n",
    "        # Add random reference\n",
    "        curr = head\n",
    "        while curr:\n",
    "            if curr.random:\n",
    "                curr.next.random = curr.random.next\n",
    "            curr = curr.next.next\n",
    "        \n",
    "        # Split copy from original one\n",
    "        dummy = runner = RandomListNode(0)\n",
    "        curr = head\n",
    "        while curr:\n",
    "            runner.next = curr.next\n",
    "            runner = runner.next\n",
    "            curr.next = curr.next.next\n",
    "            curr = curr.next\n",
    "        \n",
    "        return dummy.next"
   ]
  },
  {
   "cell_type": "markdown",
   "metadata": {},
   "source": [
    "### Solution 2: Hash-map solution\n",
    "We create a hashmap, whose key value pair is old node -> new node, then first we store new node's random as old node's random, because at this time we didn't create all the new node yet. Then we loop through the list to create copy, and finally we update random attribute using dict."
   ]
  },
  {
   "cell_type": "code",
   "execution_count": 12,
   "metadata": {
    "collapsed": true
   },
   "outputs": [],
   "source": [
    "class Solution(object):\n",
    "    def copyRandomList(self, head):\n",
    "        \"\"\"\n",
    "        :type head: RandomListNode\n",
    "        :rtype: RandomListNode\n",
    "        \"\"\"\n",
    "        if head is None:\n",
    "            return\n",
    "        d = {}\n",
    "        new_head = RandomListNode(head.label)\n",
    "        new_head.random = head.random\n",
    "        d[head] = new_head\n",
    "        p, q = head, new_head\n",
    "        while p.next:\n",
    "            q.next = RandomListNode(p.next.label)\n",
    "            q.next.random = p.next.random\n",
    "            d[p.next] = q.next\n",
    "            p = p.next\n",
    "            q = q.next\n",
    "        q = new_head\n",
    "        while q:\n",
    "            if q.random:\n",
    "                q.random = d[q.random]\n",
    "            q = q.next\n",
    "        return new_head"
   ]
  },
  {
   "cell_type": "markdown",
   "metadata": {},
   "source": [
    "# 30. Design Linked List (LC 707)\n",
    "Design your implementation of the linked list. You can choose to use the singly linked list or the doubly linked list. A node in a singly linked list should have two attributes: val and next. val is the value of the current node, and next is a pointer/reference to the next node. If you want to use the doubly linked list, you will need one more attribute prev to indicate the previous node in the linked list. Assume all nodes in the linked list are 0-indexed.\n",
    "\n",
    "Implement these functions in your linked list class:\n",
    "\n",
    "get(index) : Get the value of the index-th node in the linked list. If the index is invalid, return -1.\n",
    "addAtHead(val) : Add a node of value val before the first element of the linked list. After the insertion, the new node will be the first node of the linked list.\n",
    "addAtTail(val) : Append a node of value val to the last element of the linked list.\n",
    "addAtIndex(index, val) : Add a node of value val before the index-th node in the linked list. If index equals to the length of linked list, the node will be appended to the end of linked list. If index is greater than the length, the node will not be inserted.\n",
    "deleteAtIndex(index) : Delete the index-th node in the linked list, if the index is valid."
   ]
  },
  {
   "cell_type": "markdown",
   "metadata": {},
   "source": [
    "### Think:\n",
    "Standard approach, my solution is a bit sloppy. It could be better if we abtract the logic of get(self, index) to return a node, so that we can easily add/delete its next node."
   ]
  },
  {
   "cell_type": "code",
   "execution_count": 1,
   "metadata": {
    "collapsed": true
   },
   "outputs": [],
   "source": [
    "class Node:\n",
    "    def __init__(self, val):\n",
    "        self.val = val\n",
    "        self.next = None\n",
    "\n",
    "class MyLinkedList:\n",
    "\n",
    "    def __init__(self):\n",
    "        \"\"\"\n",
    "        Initialize your data structure here.\n",
    "        \"\"\"\n",
    "        self.dummy = Node(None)\n",
    "\n",
    "    def get(self, index):\n",
    "        \"\"\"\n",
    "        Get the value of the index-th node in the linked list. If the index is invalid, return -1.\n",
    "        :type index: int\n",
    "        :rtype: int\n",
    "        \"\"\"\n",
    "        curr = self.dummy\n",
    "        i = 0\n",
    "        while i <= index and curr:\n",
    "            i += 1\n",
    "            curr = curr.next\n",
    "        if i == index + 1 and curr:\n",
    "            return curr.val\n",
    "        return -1\n",
    "\n",
    "    def addAtHead(self, val):\n",
    "        \"\"\"\n",
    "        Add a node of value val before the first element of the linked list. After the insertion, the new node will be the first node of the linked list.\n",
    "        :type val: int\n",
    "        :rtype: void\n",
    "        \"\"\"\n",
    "        next_node = self.dummy.next\n",
    "        self.dummy.next = Node(val)\n",
    "        self.dummy.next.next = next_node\n",
    "        \n",
    "\n",
    "    def addAtTail(self, val):\n",
    "        \"\"\"\n",
    "        Append a node of value val to the last element of the linked list.\n",
    "        :type val: int\n",
    "        :rtype: void\n",
    "        \"\"\"\n",
    "        pre = self.dummy\n",
    "        while pre.next:\n",
    "            pre = pre.next\n",
    "        pre.next = Node(val)\n",
    "        \n",
    "        \n",
    "\n",
    "    def addAtIndex(self, index, val):\n",
    "        \"\"\"\n",
    "        Add a node of value val before the index-th node in the linked list. If index equals to the length of linked list, the node will be appended to the end of linked list. If index is greater than the length, the node will not be inserted.\n",
    "        :type index: int\n",
    "        :type val: int\n",
    "        :rtype: void\n",
    "        \"\"\"\n",
    "        curr = self.dummy\n",
    "        i = 0\n",
    "        while i < index and curr:\n",
    "            i += 1\n",
    "            curr = curr.next\n",
    "        if i == index and curr:\n",
    "            next_node = curr.next\n",
    "            curr.next = Node(val)\n",
    "            curr.next.next = next_node\n",
    "        \n",
    "\n",
    "    def deleteAtIndex(self, index):\n",
    "        \"\"\"\n",
    "        Delete the index-th node in the linked list, if the index is valid.\n",
    "        :type index: int\n",
    "        :rtype: void\n",
    "        \"\"\"\n",
    "        curr = self.dummy\n",
    "        i = 0\n",
    "        while i < index and curr:\n",
    "            i += 1\n",
    "            curr = curr.next\n",
    "        if i == index and curr:\n",
    "            if curr.next:\n",
    "                curr.next = curr.next.next"
   ]
  }
 ],
 "metadata": {
  "kernelspec": {
   "display_name": "Python 3",
   "language": "python",
   "name": "python3"
  },
  "language_info": {
   "codemirror_mode": {
    "name": "ipython",
    "version": 3
   },
   "file_extension": ".py",
   "mimetype": "text/x-python",
   "name": "python",
   "nbconvert_exporter": "python",
   "pygments_lexer": "ipython3",
   "version": "3.5.0"
  }
 },
 "nbformat": 4,
 "nbformat_minor": 2
}
